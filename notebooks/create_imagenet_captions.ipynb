{
 "cells": [
  {
   "cell_type": "markdown",
   "metadata": {},
   "source": [
    "# ImageNet-Captions\n",
    "\n",
    "This notebook creates embeddings for the ImageNet-Captions dataset using the CLIP prototyping experiments."
   ]
  },
  {
   "cell_type": "code",
   "execution_count": 4,
   "metadata": {},
   "outputs": [],
   "source": [
    "import torch\n",
    "import torch.nn.functional as F\n",
    "import numpy as np\n",
    "import pandas as pd\n",
    "import os\n",
    "from tqdm import tqdm\n",
    "\n",
    "import seaborn as sns\n",
    "import matplotlib.pyplot as plt\n",
    "import matplotlib.image as mpimg"
   ]
  },
  {
   "cell_type": "markdown",
   "metadata": {},
   "source": [
    "This dataset is created using a subset of ImageNet images that are from the 50 most frequent classes from the original validation set, with captions retrieved from the original Flickr posts. "
   ]
  },
  {
   "cell_type": "code",
   "execution_count": 5,
   "metadata": {},
   "outputs": [],
   "source": [
    "NUM_CLASSES = 250\n",
    "DATA_PATH = f'/mnt/ssd/ronak/datasets/imagenet_captions_{NUM_CLASSES}k'\n",
    "DEVICE = 'cuda:0'"
   ]
  },
  {
   "cell_type": "code",
   "execution_count": 9,
   "metadata": {},
   "outputs": [],
   "source": [
    "train_df = pd.read_csv(os.path.join(DATA_PATH, f\"imagenet_captions_train_c{NUM_CLASSES}.csv\"), header=0, sep=\"\\t\")\n",
    "val_df = pd.read_csv(os.path.join(DATA_PATH, f\"imagenet_captions_val_c{NUM_CLASSES}.csv\"), header=0, sep=\"\\t\")\n",
    "class_df = pd.read_csv(\"map_clsloc.txt\", sep=\" \", header=None)\n",
    "\n",
    "class_df.columns = [\"directory\", \"class_idx\", \"class_name\"]"
   ]
  },
  {
   "cell_type": "code",
   "execution_count": 10,
   "metadata": {},
   "outputs": [
    {
     "data": {
      "text/html": [
       "<div>\n",
       "<style scoped>\n",
       "    .dataframe tbody tr th:only-of-type {\n",
       "        vertical-align: middle;\n",
       "    }\n",
       "\n",
       "    .dataframe tbody tr th {\n",
       "        vertical-align: top;\n",
       "    }\n",
       "\n",
       "    .dataframe thead th {\n",
       "        text-align: right;\n",
       "    }\n",
       "</style>\n",
       "<table border=\"1\" class=\"dataframe\">\n",
       "  <thead>\n",
       "    <tr style=\"text-align: right;\">\n",
       "      <th></th>\n",
       "      <th>title</th>\n",
       "      <th>filepath</th>\n",
       "    </tr>\n",
       "  </thead>\n",
       "  <tbody>\n",
       "    <tr>\n",
       "      <th>0</th>\n",
       "      <td>120-2060_IMG</td>\n",
       "      <td>/mnt/ssd/ronak/datasets/imagenet_captions_250k...</td>\n",
       "    </tr>\n",
       "    <tr>\n",
       "      <th>1</th>\n",
       "      <td>127-2701_IMG</td>\n",
       "      <td>/mnt/ssd/ronak/datasets/imagenet_captions_250k...</td>\n",
       "    </tr>\n",
       "    <tr>\n",
       "      <th>2</th>\n",
       "      <td>Tusker</td>\n",
       "      <td>/mnt/ssd/ronak/datasets/imagenet_captions_250k...</td>\n",
       "    </tr>\n",
       "    <tr>\n",
       "      <th>3</th>\n",
       "      <td>Old Tusker</td>\n",
       "      <td>/mnt/ssd/ronak/datasets/imagenet_captions_250k...</td>\n",
       "    </tr>\n",
       "    <tr>\n",
       "      <th>4</th>\n",
       "      <td>IMG_0031</td>\n",
       "      <td>/mnt/ssd/ronak/datasets/imagenet_captions_250k...</td>\n",
       "    </tr>\n",
       "    <tr>\n",
       "      <th>...</th>\n",
       "      <td>...</td>\n",
       "      <td>...</td>\n",
       "    </tr>\n",
       "    <tr>\n",
       "      <th>174589</th>\n",
       "      <td>Royal Albatross (Northern)</td>\n",
       "      <td>/mnt/ssd/ronak/datasets/imagenet_captions_250k...</td>\n",
       "    </tr>\n",
       "    <tr>\n",
       "      <th>174590</th>\n",
       "      <td>albatross</td>\n",
       "      <td>/mnt/ssd/ronak/datasets/imagenet_captions_250k...</td>\n",
       "    </tr>\n",
       "    <tr>\n",
       "      <th>174591</th>\n",
       "      <td>mollymawk 3</td>\n",
       "      <td>/mnt/ssd/ronak/datasets/imagenet_captions_250k...</td>\n",
       "    </tr>\n",
       "    <tr>\n",
       "      <th>174592</th>\n",
       "      <td>Laysan albatross w/ chick</td>\n",
       "      <td>/mnt/ssd/ronak/datasets/imagenet_captions_250k...</td>\n",
       "    </tr>\n",
       "    <tr>\n",
       "      <th>174593</th>\n",
       "      <td>Wandering Albatross</td>\n",
       "      <td>/mnt/ssd/ronak/datasets/imagenet_captions_250k...</td>\n",
       "    </tr>\n",
       "  </tbody>\n",
       "</table>\n",
       "<p>174594 rows × 2 columns</p>\n",
       "</div>"
      ],
      "text/plain": [
       "                             title  \\\n",
       "0                     120-2060_IMG   \n",
       "1                     127-2701_IMG   \n",
       "2                           Tusker   \n",
       "3                       Old Tusker   \n",
       "4                         IMG_0031   \n",
       "...                            ...   \n",
       "174589  Royal Albatross (Northern)   \n",
       "174590                   albatross   \n",
       "174591                 mollymawk 3   \n",
       "174592   Laysan albatross w/ chick   \n",
       "174593         Wandering Albatross   \n",
       "\n",
       "                                                 filepath  \n",
       "0       /mnt/ssd/ronak/datasets/imagenet_captions_250k...  \n",
       "1       /mnt/ssd/ronak/datasets/imagenet_captions_250k...  \n",
       "2       /mnt/ssd/ronak/datasets/imagenet_captions_250k...  \n",
       "3       /mnt/ssd/ronak/datasets/imagenet_captions_250k...  \n",
       "4       /mnt/ssd/ronak/datasets/imagenet_captions_250k...  \n",
       "...                                                   ...  \n",
       "174589  /mnt/ssd/ronak/datasets/imagenet_captions_250k...  \n",
       "174590  /mnt/ssd/ronak/datasets/imagenet_captions_250k...  \n",
       "174591  /mnt/ssd/ronak/datasets/imagenet_captions_250k...  \n",
       "174592  /mnt/ssd/ronak/datasets/imagenet_captions_250k...  \n",
       "174593  /mnt/ssd/ronak/datasets/imagenet_captions_250k...  \n",
       "\n",
       "[174594 rows x 2 columns]"
      ]
     },
     "execution_count": 10,
     "metadata": {},
     "output_type": "execute_result"
    }
   ],
   "source": [
    "train_df"
   ]
  },
  {
   "cell_type": "code",
   "execution_count": 11,
   "metadata": {},
   "outputs": [
    {
     "data": {
      "text/html": [
       "<div>\n",
       "<style scoped>\n",
       "    .dataframe tbody tr th:only-of-type {\n",
       "        vertical-align: middle;\n",
       "    }\n",
       "\n",
       "    .dataframe tbody tr th {\n",
       "        vertical-align: top;\n",
       "    }\n",
       "\n",
       "    .dataframe thead th {\n",
       "        text-align: right;\n",
       "    }\n",
       "</style>\n",
       "<table border=\"1\" class=\"dataframe\">\n",
       "  <thead>\n",
       "    <tr style=\"text-align: right;\">\n",
       "      <th></th>\n",
       "      <th>class_idx</th>\n",
       "      <th>class_name</th>\n",
       "    </tr>\n",
       "    <tr>\n",
       "      <th>directory</th>\n",
       "      <th></th>\n",
       "      <th></th>\n",
       "    </tr>\n",
       "  </thead>\n",
       "  <tbody>\n",
       "    <tr>\n",
       "      <th>n02119789</th>\n",
       "      <td>1</td>\n",
       "      <td>kit_fox</td>\n",
       "    </tr>\n",
       "    <tr>\n",
       "      <th>n02100735</th>\n",
       "      <td>2</td>\n",
       "      <td>English_setter</td>\n",
       "    </tr>\n",
       "    <tr>\n",
       "      <th>n02110185</th>\n",
       "      <td>3</td>\n",
       "      <td>Siberian_husky</td>\n",
       "    </tr>\n",
       "    <tr>\n",
       "      <th>n02096294</th>\n",
       "      <td>4</td>\n",
       "      <td>Australian_terrier</td>\n",
       "    </tr>\n",
       "    <tr>\n",
       "      <th>n02102040</th>\n",
       "      <td>5</td>\n",
       "      <td>English_springer</td>\n",
       "    </tr>\n",
       "    <tr>\n",
       "      <th>...</th>\n",
       "      <td>...</td>\n",
       "      <td>...</td>\n",
       "    </tr>\n",
       "    <tr>\n",
       "      <th>n03063599</th>\n",
       "      <td>996</td>\n",
       "      <td>coffee_mug</td>\n",
       "    </tr>\n",
       "    <tr>\n",
       "      <th>n04116512</th>\n",
       "      <td>997</td>\n",
       "      <td>rubber_eraser</td>\n",
       "    </tr>\n",
       "    <tr>\n",
       "      <th>n04325704</th>\n",
       "      <td>998</td>\n",
       "      <td>stole</td>\n",
       "    </tr>\n",
       "    <tr>\n",
       "      <th>n07831146</th>\n",
       "      <td>999</td>\n",
       "      <td>carbonara</td>\n",
       "    </tr>\n",
       "    <tr>\n",
       "      <th>n03255030</th>\n",
       "      <td>1000</td>\n",
       "      <td>dumbbell</td>\n",
       "    </tr>\n",
       "  </tbody>\n",
       "</table>\n",
       "<p>1000 rows × 2 columns</p>\n",
       "</div>"
      ],
      "text/plain": [
       "           class_idx          class_name\n",
       "directory                               \n",
       "n02119789          1             kit_fox\n",
       "n02100735          2      English_setter\n",
       "n02110185          3      Siberian_husky\n",
       "n02096294          4  Australian_terrier\n",
       "n02102040          5    English_springer\n",
       "...              ...                 ...\n",
       "n03063599        996          coffee_mug\n",
       "n04116512        997       rubber_eraser\n",
       "n04325704        998               stole\n",
       "n07831146        999           carbonara\n",
       "n03255030       1000            dumbbell\n",
       "\n",
       "[1000 rows x 2 columns]"
      ]
     },
     "execution_count": 11,
     "metadata": {},
     "output_type": "execute_result"
    }
   ],
   "source": [
    "class_df = class_df.set_index(\"directory\")\n",
    "class_df"
   ]
  },
  {
   "cell_type": "markdown",
   "metadata": {},
   "source": [
    "Confirm that the class labels match the folders correctly."
   ]
  },
  {
   "cell_type": "code",
   "execution_count": 12,
   "metadata": {},
   "outputs": [
    {
     "name": "stdout",
     "output_type": "stream",
     "text": [
      "folder n01871265 corresponds to class tusker.\n"
     ]
    },
    {
     "data": {
      "image/png": "[encoded data removed]",
      "text/plain": [
       "<Figure size 200x200 with 1 Axes>"
      ]
     },
     "metadata": {},
     "output_type": "display_data"
    }
   ],
   "source": [
    "files = list(train_df['filepath'])\n",
    "folder = os.path.split(files[0])[0].split(\"/\")[-1]\n",
    "class_name = class_df.loc[folder]['class_name']\n",
    "\n",
    "print(f\"folder {folder} corresponds to class {class_name}.\")\n",
    "\n",
    "\n",
    "img = mpimg.imread(files[0])\n",
    "\n",
    "fig, ax = plt.subplots(figsize=(2, 2))\n",
    "ax.axis(\"off\")\n",
    "ax.imshow(img)\n",
    "plt.show()"
   ]
  },
  {
   "cell_type": "markdown",
   "metadata": {},
   "source": [
    "Our goal is to create data frames that contain the embeddings of the images using different models, embeddings of the captions, embeddings of the class names, and the list of class indices and names in natural language."
   ]
  },
  {
   "cell_type": "code",
   "execution_count": 13,
   "metadata": {},
   "outputs": [
    {
     "data": {
      "text/html": [
       "<div>\n",
       "<style scoped>\n",
       "    .dataframe tbody tr th:only-of-type {\n",
       "        vertical-align: middle;\n",
       "    }\n",
       "\n",
       "    .dataframe tbody tr th {\n",
       "        vertical-align: top;\n",
       "    }\n",
       "\n",
       "    .dataframe thead th {\n",
       "        text-align: right;\n",
       "    }\n",
       "</style>\n",
       "<table border=\"1\" class=\"dataframe\">\n",
       "  <thead>\n",
       "    <tr style=\"text-align: right;\">\n",
       "      <th></th>\n",
       "      <th>title</th>\n",
       "      <th>filepath</th>\n",
       "      <th>directory</th>\n",
       "      <th>class_name</th>\n",
       "      <th>class_idx</th>\n",
       "    </tr>\n",
       "  </thead>\n",
       "  <tbody>\n",
       "    <tr>\n",
       "      <th>0</th>\n",
       "      <td>120-2060_IMG</td>\n",
       "      <td>/mnt/ssd/ronak/datasets/imagenet_captions_250k...</td>\n",
       "      <td>n01871265</td>\n",
       "      <td>tusker</td>\n",
       "      <td>214</td>\n",
       "    </tr>\n",
       "    <tr>\n",
       "      <th>1</th>\n",
       "      <td>127-2701_IMG</td>\n",
       "      <td>/mnt/ssd/ronak/datasets/imagenet_captions_250k...</td>\n",
       "      <td>n01871265</td>\n",
       "      <td>tusker</td>\n",
       "      <td>214</td>\n",
       "    </tr>\n",
       "    <tr>\n",
       "      <th>2</th>\n",
       "      <td>Tusker</td>\n",
       "      <td>/mnt/ssd/ronak/datasets/imagenet_captions_250k...</td>\n",
       "      <td>n01871265</td>\n",
       "      <td>tusker</td>\n",
       "      <td>214</td>\n",
       "    </tr>\n",
       "    <tr>\n",
       "      <th>3</th>\n",
       "      <td>Old Tusker</td>\n",
       "      <td>/mnt/ssd/ronak/datasets/imagenet_captions_250k...</td>\n",
       "      <td>n01871265</td>\n",
       "      <td>tusker</td>\n",
       "      <td>214</td>\n",
       "    </tr>\n",
       "    <tr>\n",
       "      <th>4</th>\n",
       "      <td>IMG_0031</td>\n",
       "      <td>/mnt/ssd/ronak/datasets/imagenet_captions_250k...</td>\n",
       "      <td>n01871265</td>\n",
       "      <td>tusker</td>\n",
       "      <td>214</td>\n",
       "    </tr>\n",
       "    <tr>\n",
       "      <th>...</th>\n",
       "      <td>...</td>\n",
       "      <td>...</td>\n",
       "      <td>...</td>\n",
       "      <td>...</td>\n",
       "      <td>...</td>\n",
       "    </tr>\n",
       "    <tr>\n",
       "      <th>174589</th>\n",
       "      <td>Royal Albatross (Northern)</td>\n",
       "      <td>/mnt/ssd/ronak/datasets/imagenet_captions_250k...</td>\n",
       "      <td>n02058221</td>\n",
       "      <td>albatross</td>\n",
       "      <td>441</td>\n",
       "    </tr>\n",
       "    <tr>\n",
       "      <th>174590</th>\n",
       "      <td>albatross</td>\n",
       "      <td>/mnt/ssd/ronak/datasets/imagenet_captions_250k...</td>\n",
       "      <td>n02058221</td>\n",
       "      <td>albatross</td>\n",
       "      <td>441</td>\n",
       "    </tr>\n",
       "    <tr>\n",
       "      <th>174591</th>\n",
       "      <td>mollymawk 3</td>\n",
       "      <td>/mnt/ssd/ronak/datasets/imagenet_captions_250k...</td>\n",
       "      <td>n02058221</td>\n",
       "      <td>albatross</td>\n",
       "      <td>441</td>\n",
       "    </tr>\n",
       "    <tr>\n",
       "      <th>174592</th>\n",
       "      <td>Laysan albatross w/ chick</td>\n",
       "      <td>/mnt/ssd/ronak/datasets/imagenet_captions_250k...</td>\n",
       "      <td>n02058221</td>\n",
       "      <td>albatross</td>\n",
       "      <td>441</td>\n",
       "    </tr>\n",
       "    <tr>\n",
       "      <th>174593</th>\n",
       "      <td>Wandering Albatross</td>\n",
       "      <td>/mnt/ssd/ronak/datasets/imagenet_captions_250k...</td>\n",
       "      <td>n02058221</td>\n",
       "      <td>albatross</td>\n",
       "      <td>441</td>\n",
       "    </tr>\n",
       "  </tbody>\n",
       "</table>\n",
       "<p>174594 rows × 5 columns</p>\n",
       "</div>"
      ],
      "text/plain": [
       "                             title  \\\n",
       "0                     120-2060_IMG   \n",
       "1                     127-2701_IMG   \n",
       "2                           Tusker   \n",
       "3                       Old Tusker   \n",
       "4                         IMG_0031   \n",
       "...                            ...   \n",
       "174589  Royal Albatross (Northern)   \n",
       "174590                   albatross   \n",
       "174591                 mollymawk 3   \n",
       "174592   Laysan albatross w/ chick   \n",
       "174593         Wandering Albatross   \n",
       "\n",
       "                                                 filepath  directory  \\\n",
       "0       /mnt/ssd/ronak/datasets/imagenet_captions_250k...  n01871265   \n",
       "1       /mnt/ssd/ronak/datasets/imagenet_captions_250k...  n01871265   \n",
       "2       /mnt/ssd/ronak/datasets/imagenet_captions_250k...  n01871265   \n",
       "3       /mnt/ssd/ronak/datasets/imagenet_captions_250k...  n01871265   \n",
       "4       /mnt/ssd/ronak/datasets/imagenet_captions_250k...  n01871265   \n",
       "...                                                   ...        ...   \n",
       "174589  /mnt/ssd/ronak/datasets/imagenet_captions_250k...  n02058221   \n",
       "174590  /mnt/ssd/ronak/datasets/imagenet_captions_250k...  n02058221   \n",
       "174591  /mnt/ssd/ronak/datasets/imagenet_captions_250k...  n02058221   \n",
       "174592  /mnt/ssd/ronak/datasets/imagenet_captions_250k...  n02058221   \n",
       "174593  /mnt/ssd/ronak/datasets/imagenet_captions_250k...  n02058221   \n",
       "\n",
       "       class_name  class_idx  \n",
       "0          tusker        214  \n",
       "1          tusker        214  \n",
       "2          tusker        214  \n",
       "3          tusker        214  \n",
       "4          tusker        214  \n",
       "...           ...        ...  \n",
       "174589  albatross        441  \n",
       "174590  albatross        441  \n",
       "174591  albatross        441  \n",
       "174592  albatross        441  \n",
       "174593  albatross        441  \n",
       "\n",
       "[174594 rows x 5 columns]"
      ]
     },
     "execution_count": 13,
     "metadata": {},
     "output_type": "execute_result"
    }
   ],
   "source": [
    "def add_class_columns(df):\n",
    "    df['directory'] = df['filepath'].map(lambda x: os.path.split(x)[0].split(\"/\")[-1])\n",
    "    df['class_name'] = df['directory'].map(lambda x: class_df.loc[x]['class_name'])\n",
    "    df['class_idx'] = df['directory'].map(lambda x: class_df.loc[x]['class_idx'])\n",
    "    return df\n",
    "\n",
    "train_df = add_class_columns(train_df)\n",
    "val_df = add_class_columns(val_df)\n",
    "\n",
    "train_df"
   ]
  },
  {
   "cell_type": "markdown",
   "metadata": {},
   "source": [
    "## Save Class Labels in Natural Language"
   ]
  },
  {
   "cell_type": "code",
   "execution_count": 14,
   "metadata": {},
   "outputs": [],
   "source": [
    "train_class_labels = train_df[[\"class_name\", \"class_idx\"]]\n",
    "val_class_labels = val_df[[\"class_name\", \"class_idx\"]]\n",
    "\n",
    "train_class_labels.to_csv(os.path.join(DATA_PATH, \"train_class_labels.txt\"), sep=\"\\t\", index=False)\n",
    "val_class_labels.to_csv(os.path.join(DATA_PATH, \"val_class_labels.txt\"), sep=\"\\t\", index=False)"
   ]
  },
  {
   "cell_type": "markdown",
   "metadata": {},
   "source": [
    "## Create Image and Text Embeddings using CLIP ViT-B/32\n",
    "\n",
    "Using [ViT-B/32](https://github.com/ronakdm/open_clip_dev/blob/main/docs/PRETRAINED.md) model trained on LAION-2B, which reaches an ImageNet top-1 zero-shot accuracy of 65.62%."
   ]
  },
  {
   "cell_type": "code",
   "execution_count": 15,
   "metadata": {},
   "outputs": [],
   "source": [
    "import open_clip\n",
    "from training.data import get_data, CsvDataset\n",
    "from training.params import parse_args\n",
    "from torch.utils.data import DataLoader\n",
    "from torch.utils.data.distributed import DistributedSampler\n",
    "\n",
    "MODEL_NAME = \"vit_b32_laion2b\""
   ]
  },
  {
   "cell_type": "code",
   "execution_count": 16,
   "metadata": {},
   "outputs": [
    {
     "name": "stdout",
     "output_type": "stream",
     "text": [
      "Log scale: Parameter containing:\n",
      "tensor(4.6052, device='cuda:0', requires_grad=True)\n",
      "Scale: tensor(100., device='cuda:0', grad_fn=<ExpBackward0>)\n"
     ]
    }
   ],
   "source": [
    "model, preprocess_train, preprocess_val = open_clip.create_model_and_transforms('ViT-B-32', pretrained='laion2b_s34b_b79k')\n",
    "model.to(DEVICE)\n",
    "tokenizer = open_clip.get_tokenizer('ViT-B-32')\n",
    "\n",
    "print(\"Log scale:\", model.logit_scale)\n",
    "print(\"Scale:\", model.logit_scale.exp())"
   ]
  },
  {
   "cell_type": "code",
   "execution_count": 17,
   "metadata": {},
   "outputs": [],
   "source": [
    "params = [\n",
    "    \"--train-data\", f\"{DATA_PATH}/imagenet_captions_train_c{NUM_CLASSES}.csv\",\n",
    "    \"--val-data\", f\"{DATA_PATH}/imagenet_captions_val_c{NUM_CLASSES}.csv\",\n",
    "    \"--dataset-type\", \"csv\",\n",
    "    \"--csv-img-key\", \"filepath\",\n",
    "    \"--csv-caption-key\", \"title\"\n",
    "]\n",
    "args = parse_args(params)\n",
    "args.distributed = False"
   ]
  },
  {
   "cell_type": "code",
   "execution_count": 23,
   "metadata": {},
   "outputs": [],
   "source": [
    "# Create dataloader from scratch to not drop last\n",
    "is_train = True\n",
    "input_filename = args.train_data if is_train else args.val_data\n",
    "assert input_filename\n",
    "dataset = CsvDataset(\n",
    "    input_filename,\n",
    "    preprocess_train,\n",
    "    img_key=args.csv_img_key,\n",
    "    caption_key=args.csv_caption_key,\n",
    "    sep=args.csv_separator,\n",
    "    tokenizer=tokenizer,\n",
    ")\n",
    "num_samples = len(dataset)\n",
    "sampler = DistributedSampler(dataset) if args.distributed and is_train else None\n",
    "shuffle = is_train and sampler is None\n",
    "\n",
    "dataloader = DataLoader(\n",
    "    dataset,\n",
    "    batch_size=1024,\n",
    "    shuffle=shuffle,\n",
    "    num_workers=args.workers,\n",
    "    pin_memory=True,\n",
    "    sampler=sampler,\n",
    "    drop_last=False, # TODO: Changed from original\n",
    ")\n",
    "dataloader.num_samples = num_samples\n",
    "dataloader.num_batches = len(dataloader)"
   ]
  },
  {
   "cell_type": "markdown",
   "metadata": {},
   "source": [
    "Test that dataset order from dataloader agrees with original dataset order."
   ]
  },
  {
   "cell_type": "code",
   "execution_count": 24,
   "metadata": {},
   "outputs": [
    {
     "name": "stderr",
     "output_type": "stream",
     "text": [
      "WARNING:matplotlib.image:Clipping input data to the valid range for imshow with RGB data ([0..1] for floats or [0..255] for integers).\n"
     ]
    },
    {
     "name": "stdout",
     "output_type": "stream",
     "text": [
      "torch.Size([1024, 3, 224, 224])\n",
      "torch.Size([1024, 77])\n"
     ]
    },
    {
     "data": {
      "image/png": "[encoded data removed]",
      "text/plain": [
       "<Figure size 200x200 with 1 Axes>"
      ]
     },
     "metadata": {},
     "output_type": "display_data"
    },
    {
     "name": "stdout",
     "output_type": "stream",
     "text": [
      "<start_of_text>cricket <end_of_text>!!!!!!!!!!!!!!!!!!!!!!!!!!!!!!!!!!!!!!!!!!!!!!!!!!!!!!!!!!!!!!!!!!!!!!!!!!\n",
      "class_name    cricket\n",
      "class_idx         632\n",
      "Name: 49270, dtype: object\n"
     ]
    }
   ],
   "source": [
    "for i, batch in enumerate(dataloader):\n",
    "    idx, images, texts = batch\n",
    "    break\n",
    "\n",
    "print(images.shape)\n",
    "print(texts.shape)\n",
    "\n",
    "batch_id = 0\n",
    "\n",
    "# show image from dataloader\n",
    "img = images[batch_id].numpy().transpose([1, 2, 0])\n",
    "fig, ax = plt.subplots(figsize=(2, 2))\n",
    "ax.axis(\"off\")\n",
    "ax.imshow(img)\n",
    "plt.show()\n",
    "\n",
    "# show decoded text from dataloader\n",
    "txt = texts[batch_id]\n",
    "print(tokenizer.decode([elem.item() for elem in txt]))\n",
    "\n",
    "# show caption for dataset\n",
    "print(train_class_labels.loc[idx[batch_id].item()])\n"
   ]
  },
  {
   "cell_type": "code",
   "execution_count": 25,
   "metadata": {},
   "outputs": [
    {
     "name": "stderr",
     "output_type": "stream",
     "text": [
      "0it [00:00, ?it/s]"
     ]
    },
    {
     "name": "stderr",
     "output_type": "stream",
     "text": [
      "171it [08:57,  3.15s/it]\n"
     ]
    },
    {
     "name": "stdout",
     "output_type": "stream",
     "text": [
      "(174594, 512)\n",
      "(174594, 512)\n",
      "(174594,)\n"
     ]
    }
   ],
   "source": [
    "if os.path.exists(os.path.join(DATA_PATH, f\"{MODEL_NAME}_image_features.npy\")):\n",
    "    print(\"found embeddings - loading...\")\n",
    "    all_image_features = np.load(os.path.join(DATA_PATH, f\"{MODEL_NAME}_image_features.npy\"))\n",
    "    all_text_features = np.load(os.path.join(DATA_PATH, f\"{MODEL_NAME}_text_features.npy\"))\n",
    "    all_idx = np.load(os.path.join(DATA_PATH, f\"{MODEL_NAME}_idx.npy\"))\n",
    "else:\n",
    "    all_image_features, all_text_features, all_idx = [], [], []\n",
    "    with torch.no_grad():\n",
    "        for i, batch in tqdm(enumerate(dataloader)):\n",
    "            idx, images, texts = batch\n",
    "            image_features = model.encode_image(images.to(DEVICE))\n",
    "            text_features = model.encode_text(texts.to(DEVICE))\n",
    "            image_features /= image_features.norm(dim=-1, keepdim=True)\n",
    "            text_features /= text_features.norm(dim=-1, keepdim=True)\n",
    "            all_image_features.append(image_features)\n",
    "            all_text_features.append(text_features)\n",
    "            all_idx.append(idx)\n",
    "            \n",
    "    all_image_features = torch.cat(all_image_features).cpu().detach().numpy()\n",
    "    all_text_features = torch.cat(all_text_features).cpu().detach().numpy()\n",
    "    all_idx = torch.cat(all_idx).cpu().detach().numpy()\n",
    "\n",
    "    # Because the indices were random, we reorder them to be in line with the original dataset order.\n",
    "    reorder = np.argsort(all_idx)\n",
    "    np.save(os.path.join(DATA_PATH, f\"{MODEL_NAME}_image_features.npy\"), all_image_features[reorder])\n",
    "    np.save(os.path.join(DATA_PATH, f\"{MODEL_NAME}_text_features.npy\"), all_text_features[reorder])\n",
    "    np.save(os.path.join(DATA_PATH, f\"{MODEL_NAME}_idx.npy\"), all_idx[reorder])\n",
    "\n",
    "print(all_image_features.shape)\n",
    "print(all_text_features.shape)\n",
    "print(all_idx.shape)"
   ]
  },
  {
   "cell_type": "markdown",
   "metadata": {},
   "source": [
    "## Create Image Embeddings using ConvNeXt\n",
    "\n"
   ]
  },
  {
   "cell_type": "code",
   "execution_count": 32,
   "metadata": {},
   "outputs": [],
   "source": [
    "from torchvision.models import convnext_base, ConvNeXt_Base_Weights\n",
    "from torchvision.models.feature_extraction import get_graph_node_names, create_feature_extractor\n",
    "from torch.utils.data import Dataset, DataLoader\n",
    "from PIL import Image\n",
    "\n",
    "MODEL_NAME = \"convnext_base\"\n",
    "DEVICE = \"cuda:1\""
   ]
  },
  {
   "cell_type": "code",
   "execution_count": 33,
   "metadata": {},
   "outputs": [],
   "source": [
    "model = convnext_base(weights=ConvNeXt_Base_Weights.IMAGENET1K_V1).to(DEVICE)\n",
    "return_nodes = {\n",
    "    # node_name: user-specified key for output dict\n",
    "    'avgpool': 'features',\n",
    "}\n",
    "body = create_feature_extractor(model, return_nodes=return_nodes)\n",
    "transforms = ConvNeXt_Base_Weights.IMAGENET1K_V1.transforms()"
   ]
  },
  {
   "cell_type": "code",
   "execution_count": 34,
   "metadata": {},
   "outputs": [],
   "source": [
    "class CsvImageDataset(Dataset):\n",
    "    def __init__(self, input_filename, transforms, img_key, caption_key, sep=\"\\t\"):\n",
    "        df = pd.read_csv(input_filename, sep=sep)\n",
    "\n",
    "        self.images = df[img_key].tolist()\n",
    "        self.captions = df[caption_key].tolist()\n",
    "        self.transforms = transforms\n",
    "\n",
    "    def __len__(self):\n",
    "        return len(self.captions)\n",
    "\n",
    "    def __getitem__(self, idx):\n",
    "        images = self.transforms(Image.open(str(self.images[idx])).convert(\"RGB\"))\n",
    "        return idx, images"
   ]
  },
  {
   "cell_type": "code",
   "execution_count": 35,
   "metadata": {},
   "outputs": [],
   "source": [
    "# Create dataloader from scratch to not drop last\n",
    "is_train = True\n",
    "input_filename = args.train_data if is_train else args.val_data\n",
    "assert input_filename\n",
    "dataset = CsvImageDataset(\n",
    "    input_filename,\n",
    "    transforms,\n",
    "    img_key=args.csv_img_key,\n",
    "    caption_key=args.csv_caption_key,\n",
    "    sep=args.csv_separator,\n",
    ")\n",
    "num_samples = len(dataset)\n",
    "sampler = DistributedSampler(dataset) if args.distributed and is_train else None\n",
    "shuffle = is_train and sampler is None\n",
    "\n",
    "dataloader = DataLoader(\n",
    "    dataset,\n",
    "    batch_size=512,\n",
    "    shuffle=shuffle,\n",
    "    num_workers=args.workers,\n",
    "    pin_memory=True,\n",
    "    sampler=sampler,\n",
    "    drop_last=False, # TODO: Changed from original\n",
    ")\n",
    "dataloader.num_samples = num_samples\n",
    "dataloader.num_batches = len(dataloader)"
   ]
  },
  {
   "cell_type": "code",
   "execution_count": 36,
   "metadata": {},
   "outputs": [
    {
     "name": "stderr",
     "output_type": "stream",
     "text": [
      "WARNING:matplotlib.image:Clipping input data to the valid range for imshow with RGB data ([0..1] for floats or [0..255] for integers).\n"
     ]
    },
    {
     "name": "stdout",
     "output_type": "stream",
     "text": [
      "torch.Size([512, 3, 224, 224])\n"
     ]
    },
    {
     "data": {
      "image/png": "[encoded data removed]",
      "text/plain": [
       "<Figure size 200x200 with 1 Axes>"
      ]
     },
     "metadata": {},
     "output_type": "display_data"
    },
    {
     "name": "stdout",
     "output_type": "stream",
     "text": [
      "class_name    koala\n",
      "class_idx       213\n",
      "Name: 153382, dtype: object\n"
     ]
    }
   ],
   "source": [
    "for i, batch in enumerate(dataloader):\n",
    "    idx, images = batch\n",
    "    break\n",
    "\n",
    "print(images.shape)\n",
    "\n",
    "batch_id = 0\n",
    "\n",
    "# show image from dataloader\n",
    "img = images[batch_id].numpy().transpose([1, 2, 0])\n",
    "fig, ax = plt.subplots(figsize=(2, 2))\n",
    "ax.axis(\"off\")\n",
    "ax.imshow(img)\n",
    "plt.show()\n",
    "\n",
    "# show caption for dataset\n",
    "print(train_class_labels.loc[idx[batch_id].item()])"
   ]
  },
  {
   "cell_type": "code",
   "execution_count": 37,
   "metadata": {},
   "outputs": [
    {
     "name": "stdout",
     "output_type": "stream",
     "text": [
      "no embeddings found - computing...\n"
     ]
    },
    {
     "name": "stderr",
     "output_type": "stream",
     "text": [
      "342it [24:22,  4.28s/it]\n"
     ]
    },
    {
     "name": "stdout",
     "output_type": "stream",
     "text": [
      "(174594, 1024)\n",
      "(174594,)\n"
     ]
    }
   ],
   "source": [
    "if os.path.exists(os.path.join(DATA_PATH, f\"{MODEL_NAME}_image_features.npy\")):\n",
    "    print(\"found embeddings - loading...\")\n",
    "    all_image_features = np.load(os.path.join(DATA_PATH, f\"{MODEL_NAME}_image_features.npy\"))\n",
    "    all_idx = np.load(os.path.join(DATA_PATH, f\"{MODEL_NAME}_idx.npy\"))\n",
    "else:\n",
    "    print(\"no embeddings found - computing...\")\n",
    "    all_image_features, all_idx = [], []\n",
    "    with torch.no_grad():\n",
    "        for i, batch in tqdm(enumerate(dataloader)):\n",
    "            idx, images = batch\n",
    "            image_features = body(images.to(DEVICE))['features'].squeeze()\n",
    "            image_features /= image_features.norm(dim=-1, keepdim=True)\n",
    "            all_image_features.append(image_features)\n",
    "            all_idx.append(idx)\n",
    "            \n",
    "    all_image_features = torch.cat(all_image_features).cpu().detach().numpy()\n",
    "    all_idx = torch.cat(all_idx).cpu().detach().numpy()\n",
    "\n",
    "    # Because the indices were random, we reorder them to be in line with the original dataset order.\n",
    "    reorder = np.argsort(all_idx)\n",
    "    np.save(os.path.join(DATA_PATH, f\"{MODEL_NAME}_image_features.npy\"), all_image_features[reorder])\n",
    "    np.save(os.path.join(DATA_PATH, f\"{MODEL_NAME}_idx.npy\"), all_idx[reorder])\n",
    "\n",
    "print(all_image_features.shape)\n",
    "print(all_idx.shape)"
   ]
  },
  {
   "cell_type": "markdown",
   "metadata": {},
   "source": [
    "## Create Text Embeddings using GloVe"
   ]
  },
  {
   "cell_type": "code",
   "execution_count": 38,
   "metadata": {},
   "outputs": [
    {
     "name": "stderr",
     "output_type": "stream",
     "text": [
      "0it [00:00, ?it/s]"
     ]
    },
    {
     "name": "stderr",
     "output_type": "stream",
     "text": [
      "400000it [00:08, 45415.47it/s] \n"
     ]
    }
   ],
   "source": [
    "# load class dictionary\n",
    "embeddings_dict = {}\n",
    "fpath = \"/mnt/ssd/ronak/datasets/glove/glove.6B.50d.txt\"\n",
    "with open(fpath, 'r', encoding=\"utf-8\") as f:\n",
    "    for line in tqdm(f):\n",
    "        values = line.split()\n",
    "        word = values[0]\n",
    "        vector = np.asarray(values[1:], \"float32\")\n",
    "        embeddings_dict[word] = vector"
   ]
  },
  {
   "cell_type": "code",
   "execution_count": 39,
   "metadata": {},
   "outputs": [
    {
     "name": "stdout",
     "output_type": "stream",
     "text": [
      "539/1000 class names observed in GloVe vocabulary\n"
     ]
    }
   ],
   "source": [
    "# check how many of them are in the GloVe dictionary.\n",
    "\n",
    "classes = list(class_df['class_name'])\n",
    "observed = []\n",
    "for c in classes:\n",
    "    if c in embeddings_dict:\n",
    "        observed.append(c)\n",
    "print(f\"{len(observed)}/{len(classes)} class names observed in GloVe vocabulary\")"
   ]
  },
  {
   "cell_type": "code",
   "execution_count": 40,
   "metadata": {},
   "outputs": [
    {
     "name": "stdout",
     "output_type": "stream",
     "text": [
      "['scale', 'dumbbell', 'muzzle', 'ringlet', 'maraca', 'trolleybus', 'kimono', 'daisy', 'conch', 'buckle', 'notebook', 'file', 'orange', 'meerkat', 'joystick', 'diaper', 'holster', 'sorrel', 'badger', 'monitor', 'mosque', 'washer', 'thresher', 'guacamole', 'sunglasses', 'otter', 'stupa', 'altar', 'cradle', 'gibbon', 'peacock', 'albatross', 'organ', 'revolver', 'goldfinch', 'bloodhound', 'hippopotamus', 'crane', 'baboon', 'buckeye', 'hamster', 'dough', 'doormat', 'cairn', 'lotion', 'vizsla', 'geyser', 'birdhouse', 'papillon', 'pedestal', 'trilobite', 'candle', 'quill', 'crib', 'loupe', 'modem', 'chimpanzee', 'sweatshirt', 'tarantula', 'dishrag', 'pot', 'iron', 'menu', 'matchstick', 'balloon', 'drake', 'dome', 'grasshopper', 'accordion', 'tabby', 'barrel', 'vulture', 'carousel', 'reel', 'cello', 'gong', 'langur', 'suit', 'packet', 'liner', 'caldron', 'cup', 'binoculars', 'brass', 'bonnet', 'envelope', 'briard', 'cornet', 'loggerhead', 'guenon', 'sundial', 'lampshade', 'mortar', 'cliff', 'washbasin', 'agama', 'chiton', 'necklace', 'bassoon', 'missile', 'basset', 'ostrich', 'toaster', 'acorn', 'quail', 'wig', 'plane', 'sarong', 'lighter', 'fly', 'hamper', 'abacus', 'spindle', 'harmonica', 'bittern', 'maze', 'seashore', 'refrigerator', 'jacamar', 'cab', 'bathtub', 'hen', 'crane', 'indri', 'whiptail', 'clumber', 'patio', 'mitten', 'flatworm', 'pole', 'macaque', 'zucchini', 'barbell', 'coyote', 'trimaran', 'dishwasher', 'collie', 'fountain', 'siamang', 'sock', 'plunger', 'mushroom', 'snowmobile', 'pillow', 'stopwatch', 'thimble', 'gondola', 'colobus', 'gown', 'stole', 'centipede', 'lakeside', 'coil', 'jean', 'plow', 'ibex', 'banana', 'jay', 'admiral', 'mailbag', 'crayfish', 'rapeseed', 'go-kart', 'cleaver', 'thatch', 'nail', 'valley', 'radio', 'teddy', 'purse', 'stage', 'kite', 'scoreboard', 'perfume', 'basenji', 'harvester', 'corkscrew', 'impala', 'clog', 'eft', 'puffer', 'nematode', 'wallaby', 'partridge', 'hook', 'brassiere', 'moped', 'axolotl', 'violin', 'beacon', 'warplane', 'burrito', 'ski', 'stretcher', 'syringe', 'hog', 'cockroach', 'lionfish', 'fireboat', 'hummingbird', 'ptarmigan', 'bee', 'submarine', 'tench', 'plate', 'strainer', 'apron', 'microphone', 'echidna', 'carton', 'cardigan', 'snail', 'whippet', 'loudspeaker', 'ear', 'coho', 'paintbrush', 'wreck', 'damselfly', 'puck', 'eel', 'cock', 'safe', 'promontory', 'gorilla', 'palace', 'bolete', 'unicycle', 'bikini', 'swing', 'ocarina', 'miniskirt', 'scorpion', 'cheeseburger', 'borzoi', 'pick', 'oscilloscope', 'toucan', 'airliner', 'titi', 'hotdog', 'earthstar', 'maillot', 'orangutan', 'pomegranate', 'tray', 'pajama', 'marimba', 'tick', 'dock', 'oystercatcher', 'pinwheel', 'wallet', 'lipstick', 'dam', 'trombone', 'wombat', 'maillot', 'backpack', 'bighorn', 'ram', 'goblet', 'lynx', 'umbrella', 'dingo', 'alp', 'castle', 'grille', 'paddle', 'basketball', 'leopard', 'chain', 'malamute', 'limpkin', 'diamondback', 'terrapin', 'schooner', 'tricycle', 'jackfruit', 'tractor', 'upright', 'parachute', 'sidewinder', 'platypus', 'limousine', 'hartebeest', 'sunscreen', 'radiator', 'obelisk', 'armadillo', 'bobsled', 'wok', 'boxer', 'strawberry', 'sturgeon', 'mask', 'agaric', 'cloak', 'redshank', 'oboe', 'stingray', 'mink', 'convertible', 'potpie', 'pizza', 'wing', 'desk', 'sandal', 'chest', 'monarch', 'racket', 'confectionery', 'broom', 'knot', 'mailbox', 'crutch', 'bustard', 'slot', 'vase', 'quilt', 'goldfish', 'hyena', 'ballplayer', 'zebra', 'prison', 'coucal', 'streetcar', 'dugong', 'harp', 'robin', 'wardrobe', 'shield', 'slug', 'amphibian', 'ballpoint', 'catamaran', 'abaya', 'drumstick', 'vestment', 'bucket', 'barrow', 'paddlewheel', 'switch', 'shovel', 'snowplow', 'sombrero', 'airship', 'swab', 'bulbul', 'redbone', 'pitcher', 'volcano', 'groom', 'beagle', 'pier', 'stinkhorn', 'bassinet', 'capuchin', 'lifeboat', 'magpie', 'flamingo', 'triceratops', 'cucumber', 'bubble', 'cuirass', 'polecat', 'bannister', 'flute', 'snorkel', 'odometer', 'mouse', 'cannon', 'crate', 'vault', 'chime', 'nipple', 'toyshop', 'warthog', 'jersey', 'mortarboard', 'kelpie', 'lorikeet', 'jaguar', 'tusker', 'chow', 'screen', 'handkerchief', 'scabbard', 'racer', 'gyromitra', 'cricket', 'planetarium', 'pineapple', 'laptop', 'television', 'harvestman', 'spotlight', 'leafhopper', 'guillotine', 'barbershop', 'mantis', 'marmoset', 'teapot', 'cauliflower', 'lacewing', 'turnstile', 'rule', 'torch', 'screw', 'weevil', 'ladle', 'patas', 'ant', 'dogsled', 'boathouse', 'bookcase', 'skunk', 'tripod', 'junco', 'bib', 'jeep', 'greenhouse', 'lycaenid', 'cinema', 'ashcan', 'padlock', 'tiger', 'fig', 'chickadee', 'yurt', 'dalmatian', 'starfish', 'projector', 'stethoscope', 'pelican', 'bullfrog', 'hourglass', 'cardoon', 'shoji', 'barn', 'pirate', 'corn', 'lemon', 'llama', 'porcupine', 'vacuum', 'wool', 'bison', 'maypole', 'gar', 'bookshop', 'baseball', 'pug', 'cougar', 'malinois', 'bow', 'mousetrap', 'isopod', 'hay', 'mongoose', 'hammer', 'monastery', 'screwdriver', 'hare', 'oxcart', 'bearskin', 'eggnog', 'poncho', 'apiary', 'whistle', 'barometer', 'rifle', 'broccoli', 'velvet', 'drum', 'bakery', 'carbonara', 'beaver', 'breastplate', 'banjo', 'pretzel', 'minibus', 'projectile', 'hip', 'macaw', 'printer']\n",
      "['gazelle', 'weasel', 'ox', 'dhole', 'marmot', 'lion', 'cheetah', 'koala', 'speedboat', 'canoe', 'yawl', 'tank', 'forklift', 'ambulance', 'minivan', 'pickup', 'throne', 'sax', 'sandbar', 'hatchet', 'hornbill', 'goose', 'spoonbill', 'hammerhead', 'stove', 'sunglass', 'ladybug', 'cicada', 'dragonfly', 'jellyfish', 'microwave', 'rotisserie', 'coffeepot', 'spatula', 'viaduct', 'library', 'church', 'restaurant', 'megalith', 'breakwater', 'honeycomb', 'artichoke', 'tub', 'bagel', 'photocopier', 'trifle', 'binder', 'consomme', 'cassette', 'volleyball', 'espresso', 'beaker', 'flagpole']\n",
      "486\n",
      "53\n"
     ]
    }
   ],
   "source": [
    "# find classes observed in the dataset\n",
    "observed = np.array(observed)\n",
    "\n",
    "np.random.seed(123)\n",
    "k = len(observed)\n",
    "test_size = int(0.1 * k)\n",
    "train_class_idx = np.random.choice(k, size=(k - test_size), replace=False)\n",
    "val_class_idx = np.delete(np.arange(k), train_class_idx)\n",
    "\n",
    "train_class_names = [observed[i] for i in train_class_idx]\n",
    "val_class_names = [observed[i] for i in val_class_idx]\n",
    "\n",
    "print(train_class_names)\n",
    "print(val_class_names)\n",
    "\n",
    "print(len(train_class_names))\n",
    "print(len(val_class_names))"
   ]
  },
  {
   "cell_type": "code",
   "execution_count": 41,
   "metadata": {},
   "outputs": [
    {
     "name": "stdout",
     "output_type": "stream",
     "text": [
      "156725\n",
      "17869\n"
     ]
    }
   ],
   "source": [
    "# find the data indices associated to these classes\n",
    "n = len(train_df)\n",
    "\n",
    "train_idx = np.arange(n)[np.array(train_df['class_name'].map(lambda x: x in train_class_names))]\n",
    "val_idx = np.arange(n)[np.array(train_df['class_name'].map(lambda x: x in val_class_names))]\n",
    "\n",
    "print(len(train_idx))\n",
    "print(len(val_idx))\n",
    "\n",
    "assert len(np.intersect1d(train_idx, val_idx)) == 0\n",
    "\n",
    "np.save(os.path.join(DATA_PATH, f\"glove_train_idx.npy\"), train_idx)\n",
    "np.save(os.path.join(DATA_PATH, f\"glove_val_idx.npy\"), val_idx)"
   ]
  },
  {
   "cell_type": "code",
   "execution_count": 42,
   "metadata": {},
   "outputs": [
    {
     "name": "stdout",
     "output_type": "stream",
     "text": [
      "(156725, 50)\n",
      "(17869, 50)\n"
     ]
    }
   ],
   "source": [
    "train_labels = list(train_df.iloc[train_idx]['class_name'])\n",
    "val_labels = list(train_df.iloc[val_idx]['class_name'])\n",
    "\n",
    "train_embeds = np.array([embeddings_dict[label] for label in train_labels])\n",
    "val_embeds = np.array([embeddings_dict[label] for label in val_labels])\n",
    "\n",
    "print(train_embeds.shape)\n",
    "print(val_embeds.shape)\n",
    "\n",
    "np.save(os.path.join(DATA_PATH, f\"glove_train_embeds.npy\"), train_embeds)\n",
    "np.save(os.path.join(DATA_PATH, f\"glove_val_embeds.npy\"), val_embeds)"
   ]
  },
  {
   "cell_type": "code",
   "execution_count": 43,
   "metadata": {},
   "outputs": [
    {
     "name": "stdout",
     "output_type": "stream",
     "text": [
      "(17869,)\n",
      "(24, 50)\n"
     ]
    }
   ],
   "source": [
    "# create validation class labels.\n",
    "observed_val_class_names = np.unique(val_labels)\n",
    "val_label_to_class_id = {observed_val_class_names[i]: i for i in range(len(observed_val_class_names))}\n",
    "val_class_id = np.array([val_label_to_class_id[name] for name in val_labels])\n",
    "val_class_embeds = np.array([embeddings_dict[label] for label in observed_val_class_names])\n",
    "\n",
    "print(val_class_id.shape)\n",
    "print(val_class_embeds.shape)\n",
    "\n",
    "np.save(os.path.join(DATA_PATH, f\"glove_val_class_id_labels.npy\"), val_class_id)\n",
    "np.save(os.path.join(DATA_PATH, f\"glove_val_class_embeds.npy\"), val_class_embeds)"
   ]
  },
  {
   "cell_type": "code",
   "execution_count": null,
   "metadata": {},
   "outputs": [],
   "source": []
  }
 ],
 "metadata": {
  "kernelspec": {
   "display_name": "dl",
   "language": "python",
   "name": "python3"
  },
  "language_info": {
   "codemirror_mode": {
    "name": "ipython",
    "version": 3
   },
   "file_extension": ".py",
   "mimetype": "text/x-python",
   "name": "python",
   "nbconvert_exporter": "python",
   "pygments_lexer": "ipython3",
   "version": "3.11.5"
  }
 },
 "nbformat": 4,
 "nbformat_minor": 2
}
