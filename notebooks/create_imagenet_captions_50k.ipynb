{
 "cells": [
  {
   "cell_type": "markdown",
   "metadata": {},
   "source": [
    "# ImageNet-Captions 50k\n",
    "\n",
    "This notebook creates embeddings for the ImageNet-Captions 50k dataset using the CLIP prototyping experiments."
   ]
  },
  {
   "cell_type": "code",
   "execution_count": 1,
   "metadata": {},
   "outputs": [],
   "source": [
    "import torch\n",
    "import torch.nn.functional as F\n",
    "import numpy as np\n",
    "import pandas as pd\n",
    "import os\n",
    "from tqdm import tqdm\n",
    "\n",
    "import seaborn as sns\n",
    "import matplotlib.pyplot as plt\n",
    "import matplotlib.image as mpimg"
   ]
  },
  {
   "cell_type": "markdown",
   "metadata": {},
   "source": [
    "This dataset is created using a subset of ImageNet images that are from the 50 most frequent classes from the original validation set, with captions retrieved from the original Flickr posts. "
   ]
  },
  {
   "cell_type": "code",
   "execution_count": 2,
   "metadata": {},
   "outputs": [],
   "source": [
    "DATA_PATH = '/mnt/ssd/ronak/datasets/imagenet_captions_50k'\n",
    "DEVICE = 'cuda:0'\n",
    "NUM_CLASSES = 50"
   ]
  },
  {
   "cell_type": "code",
   "execution_count": 3,
   "metadata": {},
   "outputs": [],
   "source": [
    "train_df = pd.read_csv(os.path.join(DATA_PATH, \"imagenet_captions_train_c50.csv\"), header=0, sep=\"\\t\")\n",
    "val_df = pd.read_csv(os.path.join(DATA_PATH, \"imagenet_captions_val_c50.csv\"), header=0, sep=\"\\t\")\n",
    "class_df = pd.read_csv(os.path.join(DATA_PATH, \"map_clsloc.txt\"), sep=\" \", header=None)\n",
    "\n",
    "class_df.columns = [\"directory\", \"class_idx\", \"class_name\"]"
   ]
  },
  {
   "cell_type": "code",
   "execution_count": 4,
   "metadata": {},
   "outputs": [
    {
     "data": {
      "text/html": [
       "<div>\n",
       "<style scoped>\n",
       "    .dataframe tbody tr th:only-of-type {\n",
       "        vertical-align: middle;\n",
       "    }\n",
       "\n",
       "    .dataframe tbody tr th {\n",
       "        vertical-align: top;\n",
       "    }\n",
       "\n",
       "    .dataframe thead th {\n",
       "        text-align: right;\n",
       "    }\n",
       "</style>\n",
       "<table border=\"1\" class=\"dataframe\">\n",
       "  <thead>\n",
       "    <tr style=\"text-align: right;\">\n",
       "      <th></th>\n",
       "      <th>title</th>\n",
       "      <th>filepath</th>\n",
       "    </tr>\n",
       "  </thead>\n",
       "  <tbody>\n",
       "    <tr>\n",
       "      <th>0</th>\n",
       "      <td>Books and coffee</td>\n",
       "      <td>/mnt/ssd/ronak/datasets/imagenet_captions_50k/...</td>\n",
       "    </tr>\n",
       "    <tr>\n",
       "      <th>1</th>\n",
       "      <td>Sir Ian</td>\n",
       "      <td>/mnt/ssd/ronak/datasets/imagenet_captions_50k/...</td>\n",
       "    </tr>\n",
       "    <tr>\n",
       "      <th>2</th>\n",
       "      <td>West 25 St bookstore</td>\n",
       "      <td>/mnt/ssd/ronak/datasets/imagenet_captions_50k/...</td>\n",
       "    </tr>\n",
       "    <tr>\n",
       "      <th>3</th>\n",
       "      <td>Boris in the Bookshop</td>\n",
       "      <td>/mnt/ssd/ronak/datasets/imagenet_captions_50k/...</td>\n",
       "    </tr>\n",
       "    <tr>\n",
       "      <th>4</th>\n",
       "      <td>QI Bookshop</td>\n",
       "      <td>/mnt/ssd/ronak/datasets/imagenet_captions_50k/...</td>\n",
       "    </tr>\n",
       "    <tr>\n",
       "      <th>...</th>\n",
       "      <td>...</td>\n",
       "      <td>...</td>\n",
       "    </tr>\n",
       "    <tr>\n",
       "      <th>48241</th>\n",
       "      <td>Asthall, Oxfordshire</td>\n",
       "      <td>/mnt/ssd/ronak/datasets/imagenet_captions_50k/...</td>\n",
       "    </tr>\n",
       "    <tr>\n",
       "      <th>48242</th>\n",
       "      <td>Postal Box Project 6</td>\n",
       "      <td>/mnt/ssd/ronak/datasets/imagenet_captions_50k/...</td>\n",
       "    </tr>\n",
       "    <tr>\n",
       "      <th>48243</th>\n",
       "      <td>Letter Box Saviours</td>\n",
       "      <td>/mnt/ssd/ronak/datasets/imagenet_captions_50k/...</td>\n",
       "    </tr>\n",
       "    <tr>\n",
       "      <th>48244</th>\n",
       "      <td>Esbenshade Turkey Farm Ronks Lancaster County ...</td>\n",
       "      <td>/mnt/ssd/ronak/datasets/imagenet_captions_50k/...</td>\n",
       "    </tr>\n",
       "    <tr>\n",
       "      <th>48245</th>\n",
       "      <td>mail box_wortley</td>\n",
       "      <td>/mnt/ssd/ronak/datasets/imagenet_captions_50k/...</td>\n",
       "    </tr>\n",
       "  </tbody>\n",
       "</table>\n",
       "<p>48246 rows × 2 columns</p>\n",
       "</div>"
      ],
      "text/plain": [
       "                                                   title  \\\n",
       "0                                       Books and coffee   \n",
       "1                                                Sir Ian   \n",
       "2                                   West 25 St bookstore   \n",
       "3                                  Boris in the Bookshop   \n",
       "4                                            QI Bookshop   \n",
       "...                                                  ...   \n",
       "48241                               Asthall, Oxfordshire   \n",
       "48242                               Postal Box Project 6   \n",
       "48243                                Letter Box Saviours   \n",
       "48244  Esbenshade Turkey Farm Ronks Lancaster County ...   \n",
       "48245                                   mail box_wortley   \n",
       "\n",
       "                                                filepath  \n",
       "0      /mnt/ssd/ronak/datasets/imagenet_captions_50k/...  \n",
       "1      /mnt/ssd/ronak/datasets/imagenet_captions_50k/...  \n",
       "2      /mnt/ssd/ronak/datasets/imagenet_captions_50k/...  \n",
       "3      /mnt/ssd/ronak/datasets/imagenet_captions_50k/...  \n",
       "4      /mnt/ssd/ronak/datasets/imagenet_captions_50k/...  \n",
       "...                                                  ...  \n",
       "48241  /mnt/ssd/ronak/datasets/imagenet_captions_50k/...  \n",
       "48242  /mnt/ssd/ronak/datasets/imagenet_captions_50k/...  \n",
       "48243  /mnt/ssd/ronak/datasets/imagenet_captions_50k/...  \n",
       "48244  /mnt/ssd/ronak/datasets/imagenet_captions_50k/...  \n",
       "48245  /mnt/ssd/ronak/datasets/imagenet_captions_50k/...  \n",
       "\n",
       "[48246 rows x 2 columns]"
      ]
     },
     "execution_count": 4,
     "metadata": {},
     "output_type": "execute_result"
    }
   ],
   "source": [
    "train_df"
   ]
  },
  {
   "cell_type": "code",
   "execution_count": 5,
   "metadata": {},
   "outputs": [
    {
     "data": {
      "text/html": [
       "<div>\n",
       "<style scoped>\n",
       "    .dataframe tbody tr th:only-of-type {\n",
       "        vertical-align: middle;\n",
       "    }\n",
       "\n",
       "    .dataframe tbody tr th {\n",
       "        vertical-align: top;\n",
       "    }\n",
       "\n",
       "    .dataframe thead th {\n",
       "        text-align: right;\n",
       "    }\n",
       "</style>\n",
       "<table border=\"1\" class=\"dataframe\">\n",
       "  <thead>\n",
       "    <tr style=\"text-align: right;\">\n",
       "      <th></th>\n",
       "      <th>class_idx</th>\n",
       "      <th>class_name</th>\n",
       "    </tr>\n",
       "    <tr>\n",
       "      <th>directory</th>\n",
       "      <th></th>\n",
       "      <th></th>\n",
       "    </tr>\n",
       "  </thead>\n",
       "  <tbody>\n",
       "    <tr>\n",
       "      <th>n02119789</th>\n",
       "      <td>1</td>\n",
       "      <td>kit_fox</td>\n",
       "    </tr>\n",
       "    <tr>\n",
       "      <th>n02100735</th>\n",
       "      <td>2</td>\n",
       "      <td>English_setter</td>\n",
       "    </tr>\n",
       "    <tr>\n",
       "      <th>n02110185</th>\n",
       "      <td>3</td>\n",
       "      <td>Siberian_husky</td>\n",
       "    </tr>\n",
       "    <tr>\n",
       "      <th>n02096294</th>\n",
       "      <td>4</td>\n",
       "      <td>Australian_terrier</td>\n",
       "    </tr>\n",
       "    <tr>\n",
       "      <th>n02102040</th>\n",
       "      <td>5</td>\n",
       "      <td>English_springer</td>\n",
       "    </tr>\n",
       "    <tr>\n",
       "      <th>...</th>\n",
       "      <td>...</td>\n",
       "      <td>...</td>\n",
       "    </tr>\n",
       "    <tr>\n",
       "      <th>n03063599</th>\n",
       "      <td>996</td>\n",
       "      <td>coffee_mug</td>\n",
       "    </tr>\n",
       "    <tr>\n",
       "      <th>n04116512</th>\n",
       "      <td>997</td>\n",
       "      <td>rubber_eraser</td>\n",
       "    </tr>\n",
       "    <tr>\n",
       "      <th>n04325704</th>\n",
       "      <td>998</td>\n",
       "      <td>stole</td>\n",
       "    </tr>\n",
       "    <tr>\n",
       "      <th>n07831146</th>\n",
       "      <td>999</td>\n",
       "      <td>carbonara</td>\n",
       "    </tr>\n",
       "    <tr>\n",
       "      <th>n03255030</th>\n",
       "      <td>1000</td>\n",
       "      <td>dumbbell</td>\n",
       "    </tr>\n",
       "  </tbody>\n",
       "</table>\n",
       "<p>1000 rows × 2 columns</p>\n",
       "</div>"
      ],
      "text/plain": [
       "           class_idx          class_name\n",
       "directory                               \n",
       "n02119789          1             kit_fox\n",
       "n02100735          2      English_setter\n",
       "n02110185          3      Siberian_husky\n",
       "n02096294          4  Australian_terrier\n",
       "n02102040          5    English_springer\n",
       "...              ...                 ...\n",
       "n03063599        996          coffee_mug\n",
       "n04116512        997       rubber_eraser\n",
       "n04325704        998               stole\n",
       "n07831146        999           carbonara\n",
       "n03255030       1000            dumbbell\n",
       "\n",
       "[1000 rows x 2 columns]"
      ]
     },
     "execution_count": 5,
     "metadata": {},
     "output_type": "execute_result"
    }
   ],
   "source": [
    "class_df = class_df.set_index(\"directory\")\n",
    "class_df"
   ]
  },
  {
   "cell_type": "markdown",
   "metadata": {},
   "source": [
    "Confirm that the class labels match the folders correctly."
   ]
  },
  {
   "cell_type": "code",
   "execution_count": 6,
   "metadata": {},
   "outputs": [
    {
     "name": "stdout",
     "output_type": "stream",
     "text": [
      "folder n02871525 corresponds to class bookshop.\n"
     ]
    },
    {
     "data": {
      "image/png": "[encoded data removed]",
      "text/plain": [
       "<Figure size 200x200 with 1 Axes>"
      ]
     },
     "metadata": {},
     "output_type": "display_data"
    }
   ],
   "source": [
    "files = list(train_df['filepath'])\n",
    "folder = os.path.split(files[0])[0].split(\"/\")[-1]\n",
    "class_name = class_df.loc[folder]['class_name']\n",
    "\n",
    "print(f\"folder {folder} corresponds to class {class_name}.\")\n",
    "\n",
    "\n",
    "img = mpimg.imread(files[0])\n",
    "\n",
    "fig, ax = plt.subplots(figsize=(2, 2))\n",
    "ax.axis(\"off\")\n",
    "ax.imshow(img)\n",
    "plt.show()"
   ]
  },
  {
   "cell_type": "markdown",
   "metadata": {},
   "source": [
    "Our goal is to create data frames that contain the embeddings of the images using different models, embeddings of the captions, embeddings of the class names, and the list of class indices and names in natural language."
   ]
  },
  {
   "cell_type": "markdown",
   "metadata": {},
   "source": [
    "## Save Class Labels in Natural Language"
   ]
  },
  {
   "cell_type": "code",
   "execution_count": 7,
   "metadata": {},
   "outputs": [
    {
     "data": {
      "text/html": [
       "<div>\n",
       "<style scoped>\n",
       "    .dataframe tbody tr th:only-of-type {\n",
       "        vertical-align: middle;\n",
       "    }\n",
       "\n",
       "    .dataframe tbody tr th {\n",
       "        vertical-align: top;\n",
       "    }\n",
       "\n",
       "    .dataframe thead th {\n",
       "        text-align: right;\n",
       "    }\n",
       "</style>\n",
       "<table border=\"1\" class=\"dataframe\">\n",
       "  <thead>\n",
       "    <tr style=\"text-align: right;\">\n",
       "      <th></th>\n",
       "      <th>title</th>\n",
       "      <th>filepath</th>\n",
       "      <th>directory</th>\n",
       "      <th>class_name</th>\n",
       "      <th>class_idx</th>\n",
       "    </tr>\n",
       "  </thead>\n",
       "  <tbody>\n",
       "    <tr>\n",
       "      <th>0</th>\n",
       "      <td>Books and coffee</td>\n",
       "      <td>/mnt/ssd/ronak/datasets/imagenet_captions_50k/...</td>\n",
       "      <td>n02871525</td>\n",
       "      <td>bookshop</td>\n",
       "      <td>706</td>\n",
       "    </tr>\n",
       "    <tr>\n",
       "      <th>1</th>\n",
       "      <td>Sir Ian</td>\n",
       "      <td>/mnt/ssd/ronak/datasets/imagenet_captions_50k/...</td>\n",
       "      <td>n02871525</td>\n",
       "      <td>bookshop</td>\n",
       "      <td>706</td>\n",
       "    </tr>\n",
       "    <tr>\n",
       "      <th>2</th>\n",
       "      <td>West 25 St bookstore</td>\n",
       "      <td>/mnt/ssd/ronak/datasets/imagenet_captions_50k/...</td>\n",
       "      <td>n02871525</td>\n",
       "      <td>bookshop</td>\n",
       "      <td>706</td>\n",
       "    </tr>\n",
       "    <tr>\n",
       "      <th>3</th>\n",
       "      <td>Boris in the Bookshop</td>\n",
       "      <td>/mnt/ssd/ronak/datasets/imagenet_captions_50k/...</td>\n",
       "      <td>n02871525</td>\n",
       "      <td>bookshop</td>\n",
       "      <td>706</td>\n",
       "    </tr>\n",
       "    <tr>\n",
       "      <th>4</th>\n",
       "      <td>QI Bookshop</td>\n",
       "      <td>/mnt/ssd/ronak/datasets/imagenet_captions_50k/...</td>\n",
       "      <td>n02871525</td>\n",
       "      <td>bookshop</td>\n",
       "      <td>706</td>\n",
       "    </tr>\n",
       "    <tr>\n",
       "      <th>...</th>\n",
       "      <td>...</td>\n",
       "      <td>...</td>\n",
       "      <td>...</td>\n",
       "      <td>...</td>\n",
       "      <td>...</td>\n",
       "    </tr>\n",
       "    <tr>\n",
       "      <th>48241</th>\n",
       "      <td>Asthall, Oxfordshire</td>\n",
       "      <td>/mnt/ssd/ronak/datasets/imagenet_captions_50k/...</td>\n",
       "      <td>n03710193</td>\n",
       "      <td>mailbox</td>\n",
       "      <td>917</td>\n",
       "    </tr>\n",
       "    <tr>\n",
       "      <th>48242</th>\n",
       "      <td>Postal Box Project 6</td>\n",
       "      <td>/mnt/ssd/ronak/datasets/imagenet_captions_50k/...</td>\n",
       "      <td>n03710193</td>\n",
       "      <td>mailbox</td>\n",
       "      <td>917</td>\n",
       "    </tr>\n",
       "    <tr>\n",
       "      <th>48243</th>\n",
       "      <td>Letter Box Saviours</td>\n",
       "      <td>/mnt/ssd/ronak/datasets/imagenet_captions_50k/...</td>\n",
       "      <td>n03710193</td>\n",
       "      <td>mailbox</td>\n",
       "      <td>917</td>\n",
       "    </tr>\n",
       "    <tr>\n",
       "      <th>48244</th>\n",
       "      <td>Esbenshade Turkey Farm Ronks Lancaster County ...</td>\n",
       "      <td>/mnt/ssd/ronak/datasets/imagenet_captions_50k/...</td>\n",
       "      <td>n03710193</td>\n",
       "      <td>mailbox</td>\n",
       "      <td>917</td>\n",
       "    </tr>\n",
       "    <tr>\n",
       "      <th>48245</th>\n",
       "      <td>mail box_wortley</td>\n",
       "      <td>/mnt/ssd/ronak/datasets/imagenet_captions_50k/...</td>\n",
       "      <td>n03710193</td>\n",
       "      <td>mailbox</td>\n",
       "      <td>917</td>\n",
       "    </tr>\n",
       "  </tbody>\n",
       "</table>\n",
       "<p>48246 rows × 5 columns</p>\n",
       "</div>"
      ],
      "text/plain": [
       "                                                   title  \\\n",
       "0                                       Books and coffee   \n",
       "1                                                Sir Ian   \n",
       "2                                   West 25 St bookstore   \n",
       "3                                  Boris in the Bookshop   \n",
       "4                                            QI Bookshop   \n",
       "...                                                  ...   \n",
       "48241                               Asthall, Oxfordshire   \n",
       "48242                               Postal Box Project 6   \n",
       "48243                                Letter Box Saviours   \n",
       "48244  Esbenshade Turkey Farm Ronks Lancaster County ...   \n",
       "48245                                   mail box_wortley   \n",
       "\n",
       "                                                filepath  directory  \\\n",
       "0      /mnt/ssd/ronak/datasets/imagenet_captions_50k/...  n02871525   \n",
       "1      /mnt/ssd/ronak/datasets/imagenet_captions_50k/...  n02871525   \n",
       "2      /mnt/ssd/ronak/datasets/imagenet_captions_50k/...  n02871525   \n",
       "3      /mnt/ssd/ronak/datasets/imagenet_captions_50k/...  n02871525   \n",
       "4      /mnt/ssd/ronak/datasets/imagenet_captions_50k/...  n02871525   \n",
       "...                                                  ...        ...   \n",
       "48241  /mnt/ssd/ronak/datasets/imagenet_captions_50k/...  n03710193   \n",
       "48242  /mnt/ssd/ronak/datasets/imagenet_captions_50k/...  n03710193   \n",
       "48243  /mnt/ssd/ronak/datasets/imagenet_captions_50k/...  n03710193   \n",
       "48244  /mnt/ssd/ronak/datasets/imagenet_captions_50k/...  n03710193   \n",
       "48245  /mnt/ssd/ronak/datasets/imagenet_captions_50k/...  n03710193   \n",
       "\n",
       "      class_name  class_idx  \n",
       "0       bookshop        706  \n",
       "1       bookshop        706  \n",
       "2       bookshop        706  \n",
       "3       bookshop        706  \n",
       "4       bookshop        706  \n",
       "...          ...        ...  \n",
       "48241    mailbox        917  \n",
       "48242    mailbox        917  \n",
       "48243    mailbox        917  \n",
       "48244    mailbox        917  \n",
       "48245    mailbox        917  \n",
       "\n",
       "[48246 rows x 5 columns]"
      ]
     },
     "execution_count": 7,
     "metadata": {},
     "output_type": "execute_result"
    }
   ],
   "source": [
    "def add_class_columns(df):\n",
    "    df['directory'] = df['filepath'].map(lambda x: os.path.split(x)[0].split(\"/\")[-1])\n",
    "    df['class_name'] = df['directory'].map(lambda x: class_df.loc[x]['class_name'])\n",
    "    df['class_idx'] = df['directory'].map(lambda x: class_df.loc[x]['class_idx'])\n",
    "    return df\n",
    "\n",
    "train_df = add_class_columns(train_df)\n",
    "val_df = add_class_columns(val_df)\n",
    "\n",
    "train_df"
   ]
  },
  {
   "cell_type": "code",
   "execution_count": 8,
   "metadata": {},
   "outputs": [],
   "source": [
    "train_class_labels = train_df[[\"class_name\", \"class_idx\"]]\n",
    "val_class_labels = val_df[[\"class_name\", \"class_idx\"]]\n",
    "\n",
    "train_class_labels.to_csv(os.path.join(DATA_PATH, \"train_class_labels.txt\"), sep=\"\\t\", index=False)\n",
    "val_class_labels.to_csv(os.path.join(DATA_PATH, \"val_class_labels.txt\"), sep=\"\\t\", index=False)"
   ]
  },
  {
   "cell_type": "markdown",
   "metadata": {},
   "source": [
    "## Create Image and Text Embeddings using CLIP ViT-B/32\n",
    "\n",
    "Using [ViT-B/32](https://github.com/ronakdm/open_clip_dev/blob/main/docs/PRETRAINED.md) model trained on LAION-2B, which reaches an ImageNet top-1 zero-shot accuracy of 65.62%."
   ]
  },
  {
   "cell_type": "code",
   "execution_count": 9,
   "metadata": {},
   "outputs": [],
   "source": [
    "import open_clip\n",
    "from training.data import get_data, CsvDataset\n",
    "from training.params import parse_args\n",
    "from torch.utils.data import DataLoader\n",
    "from torch.utils.data.distributed import DistributedSampler\n",
    "\n",
    "MODEL_NAME = \"vit_b32_laion2b\""
   ]
  },
  {
   "cell_type": "code",
   "execution_count": 10,
   "metadata": {},
   "outputs": [
    {
     "name": "stdout",
     "output_type": "stream",
     "text": [
      "Log scale: Parameter containing:\n",
      "tensor(4.6052, device='cuda:0', requires_grad=True)\n",
      "Scale: tensor(100., device='cuda:0', grad_fn=<ExpBackward0>)\n"
     ]
    }
   ],
   "source": [
    "model, preprocess_train, preprocess_val = open_clip.create_model_and_transforms('ViT-B-32', pretrained='laion2b_s34b_b79k')\n",
    "model.to(DEVICE)\n",
    "tokenizer = open_clip.get_tokenizer('ViT-B-32')\n",
    "\n",
    "print(\"Log scale:\", model.logit_scale)\n",
    "print(\"Scale:\", model.logit_scale.exp())"
   ]
  },
  {
   "cell_type": "code",
   "execution_count": 11,
   "metadata": {},
   "outputs": [],
   "source": [
    "params = [\n",
    "    \"--train-data\", f\"{DATA_PATH}/imagenet_captions_train_c{NUM_CLASSES}.csv\",\n",
    "    \"--val-data\", f\"{DATA_PATH}/imagenet_captions_val_c{NUM_CLASSES}.csv\",\n",
    "    \"--dataset-type\", \"csv\",\n",
    "    \"--csv-img-key\", \"filepath\",\n",
    "    \"--csv-caption-key\", \"title\"\n",
    "]\n",
    "args = parse_args(params)\n",
    "args.distributed = False"
   ]
  },
  {
   "cell_type": "code",
   "execution_count": 12,
   "metadata": {},
   "outputs": [],
   "source": [
    "# Create dataloader from scratch to not drop last\n",
    "is_train = True\n",
    "input_filename = args.train_data if is_train else args.val_data\n",
    "assert input_filename\n",
    "dataset = CsvDataset(\n",
    "    input_filename,\n",
    "    preprocess_train,\n",
    "    img_key=args.csv_img_key,\n",
    "    caption_key=args.csv_caption_key,\n",
    "    sep=args.csv_separator,\n",
    "    tokenizer=tokenizer,\n",
    ")\n",
    "num_samples = len(dataset)\n",
    "sampler = DistributedSampler(dataset) if args.distributed and is_train else None\n",
    "shuffle = is_train and sampler is None\n",
    "\n",
    "dataloader = DataLoader(\n",
    "    dataset,\n",
    "    batch_size=args.batch_size,\n",
    "    shuffle=shuffle,\n",
    "    num_workers=args.workers,\n",
    "    pin_memory=True,\n",
    "    sampler=sampler,\n",
    "    drop_last=False, # TODO: Changed from original\n",
    ")\n",
    "dataloader.num_samples = num_samples\n",
    "dataloader.num_batches = len(dataloader)"
   ]
  },
  {
   "cell_type": "markdown",
   "metadata": {},
   "source": [
    "Test that dataset order from dataloader agrees with original dataset order."
   ]
  },
  {
   "cell_type": "code",
   "execution_count": 23,
   "metadata": {},
   "outputs": [
    {
     "name": "stderr",
     "output_type": "stream",
     "text": [
      "WARNING:matplotlib.image:Clipping input data to the valid range for imshow with RGB data ([0..1] for floats or [0..255] for integers).\n"
     ]
    },
    {
     "name": "stdout",
     "output_type": "stream",
     "text": [
      "torch.Size([64, 3, 224, 224])\n",
      "torch.Size([64, 77])\n"
     ]
    },
    {
     "data": {
      "image/png": "[encoded data removed]",
      "text/plain": [
       "<Figure size 200x200 with 1 Axes>"
      ]
     },
     "metadata": {},
     "output_type": "display_data"
    },
    {
     "name": "stdout",
     "output_type": "stream",
     "text": [
      "<start_of_text>crowned crane <end_of_text>!!!!!!!!!!!!!!!!!!!!!!!!!!!!!!!!!!!!!!!!!!!!!!!!!!!!!!!!!!!!!!!!!!!!!!!!!\n"
     ]
    }
   ],
   "source": [
    "for i, batch in enumerate(dataloader):\n",
    "    idx, images, texts = batch\n",
    "    break\n",
    "\n",
    "print(images.shape)\n",
    "print(texts.shape)\n",
    "\n",
    "batch_id = 0\n",
    "\n",
    "img = images[batch_id].numpy().transpose([1, 2, 0])\n",
    "fig, ax = plt.subplots(figsize=(2, 2))\n",
    "ax.axis(\"off\")\n",
    "ax.imshow(img)\n",
    "plt.show()\n",
    "\n",
    "txt = texts[batch_id]\n",
    "print(tokenizer.decode([elem.item() for elem in txt]))\n"
   ]
  },
  {
   "cell_type": "code",
   "execution_count": 25,
   "metadata": {},
   "outputs": [
    {
     "name": "stdout",
     "output_type": "stream",
     "text": [
      "found embeddings - loading...\n",
      "(48246, 512)\n",
      "(48246, 512)\n",
      "(48246,)\n"
     ]
    }
   ],
   "source": [
    "if os.path.exists(os.path.join(DATA_PATH, f\"{MODEL_NAME}_image_features.npy\")):\n",
    "    print(\"found embeddings - loading...\")\n",
    "    all_image_features = np.load(os.path.join(DATA_PATH, f\"{MODEL_NAME}_image_features.npy\"))\n",
    "    all_text_features = np.load(os.path.join(DATA_PATH, f\"{MODEL_NAME}_text_features.npy\"))\n",
    "    all_idx = np.load(os.path.join(DATA_PATH, f\"{MODEL_NAME}_idx.npy\"))\n",
    "else:\n",
    "    all_image_features, all_text_features, all_idx = [], [], []\n",
    "    with torch.no_grad():\n",
    "        for i, batch in tqdm(enumerate(dataloader)):\n",
    "            idx, images, texts = batch\n",
    "            image_features = model.encode_image(images.to(DEVICE))\n",
    "            text_features = model.encode_text(texts.to(DEVICE))\n",
    "            image_features /= image_features.norm(dim=-1, keepdim=True)\n",
    "            text_features /= text_features.norm(dim=-1, keepdim=True)\n",
    "            all_image_features.append(image_features)\n",
    "            all_text_features.append(text_features)\n",
    "            all_idx.append(idx)\n",
    "            \n",
    "    all_image_features = torch.cat(all_image_features).cpu().detach().numpy()\n",
    "    all_text_features = torch.cat(all_text_features).cpu().detach().numpy()\n",
    "    all_idx = torch.cat(all_idx).cpu().detach().numpy()\n",
    "\n",
    "    # Because the indices were random, we reorder them to be in line with the original dataset order.\n",
    "    reorder = np.argsort(all_idx)\n",
    "    np.save(os.path.join(DATA_PATH, f\"{MODEL_NAME}_image_features.npy\"), all_image_features[reorder])\n",
    "    np.save(os.path.join(DATA_PATH, f\"{MODEL_NAME}_text_features.npy\"), all_text_features[reorder])\n",
    "    np.save(os.path.join(DATA_PATH, f\"{MODEL_NAME}_idx.npy\"), all_idx[reorder])\n",
    "\n",
    "print(all_image_features.shape)\n",
    "print(all_text_features.shape)\n",
    "print(all_idx.shape)"
   ]
  },
  {
   "cell_type": "markdown",
   "metadata": {},
   "source": [
    "## Create Image Embeddings using ConvNeXt\n",
    "\n"
   ]
  },
  {
   "cell_type": "markdown",
   "metadata": {},
   "source": [
    "## Create Text Embeddings using GloVe"
   ]
  },
  {
   "cell_type": "markdown",
   "metadata": {},
   "source": []
  }
 ],
 "metadata": {
  "kernelspec": {
   "display_name": "dl",
   "language": "python",
   "name": "python3"
  },
  "language_info": {
   "codemirror_mode": {
    "name": "ipython",
    "version": 3
   },
   "file_extension": ".py",
   "mimetype": "text/x-python",
   "name": "python",
   "nbconvert_exporter": "python",
   "pygments_lexer": "ipython3",
   "version": "3.11.5"
  }
 },
 "nbformat": 4,
 "nbformat_minor": 2
}
