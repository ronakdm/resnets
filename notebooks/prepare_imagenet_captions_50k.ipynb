{
 "cells": [
  {
   "cell_type": "code",
   "execution_count": 11,
   "metadata": {},
   "outputs": [],
   "source": [
    "import torch\n",
    "import numpy as np\n",
    "import os\n",
    "from tqdm import tqdm"
   ]
  },
  {
   "cell_type": "markdown",
   "metadata": {},
   "source": [
    "### Create Dataset"
   ]
  },
  {
   "cell_type": "code",
   "execution_count": 15,
   "metadata": {},
   "outputs": [],
   "source": [
    "data_dir = \"/mnt/ssd/ronak/datasets/imagenet_captions_50k\"\n",
    "\n",
    "img = torch.from_numpy(torch.load(os.path.join(data_dir, \"vit_b32_laion2b_image_features.pt\")))\n",
    "txt = torch.from_numpy(torch.load(os.path.join(data_dir, \"vit_b32_laion2b_text_features.pt\")))\n",
    "idx = torch.load(os.path.join(data_dir, \"vit_b32_laion2b_idx.pt\"))"
   ]
  },
  {
   "cell_type": "code",
   "execution_count": 16,
   "metadata": {},
   "outputs": [
    {
     "data": {
      "text/plain": [
       "array([1.        , 1.        , 1.0000001 , 0.99999994, 1.        ,\n",
       "       1.        , 1.        , 0.99999994, 1.        , 1.        ],\n",
       "      dtype=float32)"
      ]
     },
     "execution_count": 16,
     "metadata": {},
     "output_type": "execute_result"
    }
   ],
   "source": [
    "# data should be prenormalized\n",
    "np.linalg.norm(img[:10], axis=1)"
   ]
  },
  {
   "cell_type": "code",
   "execution_count": 17,
   "metadata": {},
   "outputs": [],
   "source": [
    "n = len(img)\n",
    "np.random.seed(123)\n",
    "test_size = int(0.1 * n)\n",
    "\n",
    "train_idx = np.random.choice(n, size=(n - test_size), replace=False)\n",
    "test_idx = np.delete(np.arange(n), train_idx)\n",
    "assert len(np.intersect1d(train_idx, test_idx)) == 0\n",
    "assert len(np.union1d(train_idx, test_idx)) == n"
   ]
  },
  {
   "cell_type": "code",
   "execution_count": 18,
   "metadata": {},
   "outputs": [
    {
     "name": "stdout",
     "output_type": "stream",
     "text": [
      "torch.Size([43422, 512])\n",
      "torch.Size([43422, 512])\n",
      "torch.Size([4824, 512])\n",
      "torch.Size([4824, 512])\n"
     ]
    }
   ],
   "source": [
    "train_idx = torch.from_numpy(train_idx)\n",
    "test_idx = torch.from_numpy(test_idx)\n",
    "\n",
    "x_train, x_test = img[train_idx], img[test_idx]\n",
    "y_train, y_test = txt[train_idx], txt[test_idx]\n",
    "\n",
    "print(x_train.shape)\n",
    "print(y_train.shape)\n",
    "print(x_test.shape)\n",
    "print(y_test.shape)"
   ]
  },
  {
   "cell_type": "code",
   "execution_count": 19,
   "metadata": {},
   "outputs": [],
   "source": [
    "torch.save(x_train, os.path.join(data_dir, \"x_train.pt\"))\n",
    "torch.save(y_train, os.path.join(data_dir, \"y_train.pt\"))\n",
    "torch.save(x_test, os.path.join(data_dir, \"x_test.pt\"))\n",
    "torch.save(y_test, os.path.join(data_dir, \"y_test.pt\"))"
   ]
  },
  {
   "cell_type": "markdown",
   "metadata": {},
   "source": [
    "### Compute Baseline Loss"
   ]
  },
  {
   "cell_type": "code",
   "execution_count": 29,
   "metadata": {},
   "outputs": [],
   "source": [
    "def compute_batch_loss(x, y, scale=100.0):\n",
    "    # scale is taken from vit_b32_laion2b model\n",
    "    logits = torch.matmul(x, y.T) * scale\n",
    "    labels = torch.arange(len(logits))\n",
    "    loss_i = torch.nn.functional.cross_entropy(logits, labels)\n",
    "    loss_t = torch.nn.functional.cross_entropy(logits.T, labels)\n",
    "    loss = (loss_i + loss_t) / 2\n",
    "    return loss\n",
    "        \n",
    "def compute_loss(batch_size, X, Y, n_bootstrap=3000):\n",
    "    N = len(X)\n",
    "    np.random.seed(123)\n",
    "    losses = torch.zeros(n_bootstrap)\n",
    "    for i in tqdm(range(n_bootstrap)):\n",
    "        idx = np.random.choice(N, size=(batch_size,), replace=False)\n",
    "        losses[i] = compute_batch_loss(X[idx], Y[idx])\n",
    "    return losses.mean()\n",
    "\n",
    "model_name = 'vit-b32-laion2b_s34b_b79k'"
   ]
  },
  {
   "cell_type": "code",
   "execution_count": 33,
   "metadata": {},
   "outputs": [
    {
     "name": "stderr",
     "output_type": "stream",
     "text": [
      "100%|██████████| 3000/3000 [00:02<00:00, 1064.92it/s]\n",
      "100%|██████████| 3000/3000 [00:01<00:00, 2705.53it/s]"
     ]
    },
    {
     "name": "stdout",
     "output_type": "stream",
     "text": [
      "model:        vit-b32-laion2b_s34b_b79k\n",
      "batch size:   64\n",
      "  train loss: 2.28431\n",
      "  test loss:  2.34897\n"
     ]
    },
    {
     "name": "stderr",
     "output_type": "stream",
     "text": [
      "\n"
     ]
    }
   ],
   "source": [
    "batch_size = 64\n",
    "\n",
    "train_loss = compute_loss(batch_size, x_train, y_train)\n",
    "test_loss = compute_loss(batch_size, x_test, y_test)\n",
    "\n",
    "print(f\"model:        {model_name}\")\n",
    "print(f\"batch size:   {batch_size}\")\n",
    "print(f\"  train loss: {train_loss:0.5f}\")\n",
    "print(f\"  test loss:  {test_loss:0.5f}\")"
   ]
  },
  {
   "cell_type": "code",
   "execution_count": 30,
   "metadata": {},
   "outputs": [
    {
     "name": "stderr",
     "output_type": "stream",
     "text": [
      "100%|██████████| 3000/3000 [00:03<00:00, 920.23it/s] \n",
      "100%|██████████| 3000/3000 [00:01<00:00, 2351.16it/s]"
     ]
    },
    {
     "name": "stdout",
     "output_type": "stream",
     "text": [
      "model:        vit-b32-laion2b_s34b_b79k\n",
      "batch size:   128\n",
      "  train loss: 2.97814\n",
      "  test loss:  3.04914\n"
     ]
    },
    {
     "name": "stderr",
     "output_type": "stream",
     "text": [
      "\n"
     ]
    }
   ],
   "source": [
    "batch_size = 128\n",
    "\n",
    "train_loss = compute_loss(batch_size, x_train, y_train)\n",
    "test_loss = compute_loss(batch_size, x_test, y_test)\n",
    "\n",
    "print(f\"model:        {model_name}\")\n",
    "print(f\"batch size:   {batch_size}\")\n",
    "print(f\"  train loss: {train_loss:0.5f}\")\n",
    "print(f\"  test loss:  {test_loss:0.5f}\")"
   ]
  },
  {
   "cell_type": "code",
   "execution_count": 31,
   "metadata": {},
   "outputs": [
    {
     "name": "stderr",
     "output_type": "stream",
     "text": [
      "100%|██████████| 3000/3000 [00:03<00:00, 778.94it/s]\n",
      "100%|██████████| 3000/3000 [00:02<00:00, 1416.96it/s]"
     ]
    },
    {
     "name": "stdout",
     "output_type": "stream",
     "text": [
      "model:        vit-b32-laion2b_s34b_b79k\n",
      "batch size:   256\n",
      "  train loss: 3.72472\n",
      "  test loss:  3.79841\n"
     ]
    },
    {
     "name": "stderr",
     "output_type": "stream",
     "text": [
      "\n"
     ]
    }
   ],
   "source": [
    "batch_size = 256\n",
    "\n",
    "train_loss = compute_loss(batch_size, x_train, y_train)\n",
    "test_loss = compute_loss(batch_size, x_test, y_test)\n",
    "\n",
    "print(f\"model:        {model_name}\")\n",
    "print(f\"batch size:   {batch_size}\")\n",
    "print(f\"  train loss: {train_loss:0.5f}\")\n",
    "print(f\"  test loss:  {test_loss:0.5f}\")"
   ]
  },
  {
   "cell_type": "code",
   "execution_count": 32,
   "metadata": {},
   "outputs": [
    {
     "name": "stderr",
     "output_type": "stream",
     "text": [
      "100%|██████████| 3000/3000 [00:07<00:00, 407.67it/s]\n",
      "100%|██████████| 3000/3000 [00:05<00:00, 521.28it/s]"
     ]
    },
    {
     "name": "stdout",
     "output_type": "stream",
     "text": [
      "model:        vit-b32-laion2b_s34b_b79k\n",
      "batch size:   512\n",
      "  train loss: 4.48539\n",
      "  test loss:  4.56147\n"
     ]
    },
    {
     "name": "stderr",
     "output_type": "stream",
     "text": [
      "\n"
     ]
    }
   ],
   "source": [
    "batch_size = 512\n",
    "\n",
    "train_loss = compute_loss(batch_size, x_train, y_train)\n",
    "test_loss = compute_loss(batch_size, x_test, y_test)\n",
    "\n",
    "print(f\"model:        {model_name}\")\n",
    "print(f\"batch size:   {batch_size}\")\n",
    "print(f\"  train loss: {train_loss:0.5f}\")\n",
    "print(f\"  test loss:  {test_loss:0.5f}\")"
   ]
  },
  {
   "cell_type": "code",
   "execution_count": null,
   "metadata": {},
   "outputs": [],
   "source": []
  }
 ],
 "metadata": {
  "kernelspec": {
   "display_name": "dl",
   "language": "python",
   "name": "python3"
  },
  "language_info": {
   "codemirror_mode": {
    "name": "ipython",
    "version": 3
   },
   "file_extension": ".py",
   "mimetype": "text/x-python",
   "name": "python",
   "nbconvert_exporter": "python",
   "pygments_lexer": "ipython3",
   "version": "3.11.5"
  }
 },
 "nbformat": 4,
 "nbformat_minor": 2
}
