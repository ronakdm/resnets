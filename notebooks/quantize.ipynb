{
 "cells": [
  {
   "cell_type": "code",
   "execution_count": 1,
   "metadata": {},
   "outputs": [],
   "source": [
    "import numpy as np\n",
    "import os\n",
    "import matplotlib.pyplot as plt\n",
    "from torchvision.datasets import CIFAR10\n",
    "from tqdm import tqdm"
   ]
  },
  {
   "cell_type": "markdown",
   "metadata": {},
   "source": [
    "### Save Data as Arrays"
   ]
  },
  {
   "cell_type": "code",
   "execution_count": 7,
   "metadata": {},
   "outputs": [
    {
     "name": "stdout",
     "output_type": "stream",
     "text": [
      "Downloading https://www.cs.toronto.edu/~kriz/cifar-10-python.tar.gz to /mnt/ssd/ronak/datasets/cifar10/cifar-10-python.tar.gz\n"
     ]
    },
    {
     "name": "stderr",
     "output_type": "stream",
     "text": [
      "100%|██████████| 170498071/170498071 [00:04<00:00, 34431410.76it/s]\n"
     ]
    },
    {
     "name": "stdout",
     "output_type": "stream",
     "text": [
      "Extracting /mnt/ssd/ronak/datasets/cifar10/cifar-10-python.tar.gz to /mnt/ssd/ronak/datasets/cifar10\n",
      "Files already downloaded and verified\n"
     ]
    }
   ],
   "source": [
    "root=\"/mnt/ssd/ronak/datasets/cifar10\"\n",
    "download = True\n",
    "train_data = CIFAR10(root, download=download)\n",
    "test_data = CIFAR10(root, train=False, download=download)\n",
    "\n",
    "x_train = train_data.data\n",
    "x_test = test_data.data\n",
    "y_train = np.array(train_data.targets)\n",
    "y_test = np.array(test_data.targets)"
   ]
  },
  {
   "cell_type": "code",
   "execution_count": 8,
   "metadata": {},
   "outputs": [
    {
     "data": {
      "image/png": "[encoded data removed]",
      "text/plain": [
       "<Figure size 200x200 with 1 Axes>"
      ]
     },
     "metadata": {},
     "output_type": "display_data"
    }
   ],
   "source": [
    "# check images\n",
    "image = x_train[4]\n",
    "\n",
    "# plt.axis(\"off\")\n",
    "fig, ax = plt.subplots(figsize=(2, 2))\n",
    "ax.axis(\"off\")\n",
    "ax.imshow(image)\n",
    "plt.show()"
   ]
  },
  {
   "cell_type": "code",
   "execution_count": 9,
   "metadata": {},
   "outputs": [],
   "source": [
    "save_dir = \"/mnt/ssd/ronak/datasets/cifar10\"\n",
    "\n",
    "np.save(os.path.join(save_dir, \"x_train\"), x_train)\n",
    "np.save(os.path.join(save_dir, \"y_train\"), y_train)\n",
    "np.save(os.path.join(save_dir, \"x_test\"),  x_test)\n",
    "np.save(os.path.join(save_dir, \"y_test\"),  y_test)"
   ]
  },
  {
   "cell_type": "markdown",
   "metadata": {},
   "source": [
    "### Create Random Quantization"
   ]
  },
  {
   "cell_type": "code",
   "execution_count": 10,
   "metadata": {},
   "outputs": [],
   "source": [
    "from sklearn.cluster import KMeans"
   ]
  },
  {
   "cell_type": "code",
   "execution_count": 11,
   "metadata": {},
   "outputs": [],
   "source": [
    "root = \"/mnt/ssd/ronak/datasets/cifar10\"\n",
    "\n",
    "x_train = np.load(os.path.join(root, \"x_train.npy\"))\n",
    "y_train = np.load(os.path.join(root, \"y_train.npy\"))\n",
    "x_test  = np.load(os.path.join(root, \"x_test.npy\"))\n",
    "y_test  = np.load(os.path.join(root, \"y_test.npy\"))"
   ]
  },
  {
   "cell_type": "code",
   "execution_count": 6,
   "metadata": {},
   "outputs": [],
   "source": [
    "n_bins = 8"
   ]
  },
  {
   "cell_type": "code",
   "execution_count": 12,
   "metadata": {},
   "outputs": [],
   "source": [
    "def quantize(n_bins=8):\n",
    "    # for labels, they are already quantized\n",
    "    suffix = f\"_quantized_{n_bins}.npy\"\n",
    "    np.save(os.path.join(root, \"y_train\" + suffix), y_train)\n",
    "    np.save(os.path.join(root, \"y_test\" + suffix), y_test)\n",
    "\n",
    "    kmeans = KMeans(n_clusters=n_bins, random_state=0, n_init=\"auto\").fit(x_train.reshape(len(x_train), -1))\n",
    "\n",
    "    cx_train = kmeans.predict(x_train.reshape(len(x_train), -1))\n",
    "    cx_test  = kmeans.predict(x_test.reshape(len(x_test), -1))\n",
    "\n",
    "    np.save(os.path.join(root, \"x_train\" + suffix), cx_train)\n",
    "    np.save(os.path.join(root, \"x_test\" + suffix), cx_test)"
   ]
  },
  {
   "cell_type": "code",
   "execution_count": 14,
   "metadata": {},
   "outputs": [
    {
     "name": "stderr",
     "output_type": "stream",
     "text": [
      "100%|██████████| 6/6 [01:25<00:00, 14.28s/it]\n"
     ]
    }
   ],
   "source": [
    "for b in tqdm([8, 16, 32, 40, 48, 64]):\n",
    "    quantize(n_bins=b)"
   ]
  },
  {
   "cell_type": "code",
   "execution_count": 15,
   "metadata": {},
   "outputs": [],
   "source": [
    "def simulate_probably(objects, k, b, s=1000):\n",
    "    np.random.seed(123)\n",
    "    count = 0\n",
    "    for _ in range(s):\n",
    "        batch = np.random.choice(objects, size=(b,), replace=False)\n",
    "        count += int(len(np.unique(batch)) == k)\n",
    "    return count / s"
   ]
  },
  {
   "cell_type": "code",
   "execution_count": 16,
   "metadata": {},
   "outputs": [
    {
     "name": "stdout",
     "output_type": "stream",
     "text": [
      "8: 1.0000\n",
      "16: 1.0000\n",
      "32: 1.0000\n",
      "40: 0.9950\n",
      "48: 0.9840\n",
      "64: 0.0040\n"
     ]
    }
   ],
   "source": [
    "batch_size = 512\n",
    "\n",
    "for k in [8, 16, 32, 40, 48, 64]:\n",
    "    objects = np.load(os.path.join(root, f\"x_train_quantized_{k}.npy\"))\n",
    "    print(f\"{k}: {simulate_probably(objects, k, batch_size):0.4f}\")\n"
   ]
  },
  {
   "cell_type": "code",
   "execution_count": 2,
   "metadata": {},
   "outputs": [],
   "source": [
    "root = \"/mnt/ssd/ronak/datasets/cifar10\"\n",
    "# for n_bins in [8, 16, 32, 40, 48, 64]:\n",
    "\n",
    "n_bins = 40\n",
    "\n",
    "cx_train = np.load(os.path.join(root, f\"x_train_quantized_{n_bins}.npy\"))\n",
    "cy_train = np.load(os.path.join(root, f\"y_train_quantized_{n_bins}.npy\"))\n",
    "\n",
    "ind, count = np.unique(cx_train, return_counts=True)\n",
    "px = count / len(cx_train)\n",
    "\n",
    "ind, count = np.unique(cy_train, return_counts=True)\n",
    "py = count / len(cy_train)"
   ]
  },
  {
   "cell_type": "code",
   "execution_count": 3,
   "metadata": {},
   "outputs": [],
   "source": [
    "np.save(os.path.join(root, \"x_marginal.npy\"), px)\n",
    "np.save(os.path.join(root, \"y_marginal.npy\"), py)"
   ]
  },
  {
   "cell_type": "code",
   "execution_count": null,
   "metadata": {},
   "outputs": [],
   "source": []
  }
 ],
 "metadata": {
  "kernelspec": {
   "display_name": "dl",
   "language": "python",
   "name": "python3"
  },
  "language_info": {
   "codemirror_mode": {
    "name": "ipython",
    "version": 3
   },
   "file_extension": ".py",
   "mimetype": "text/x-python",
   "name": "python",
   "nbconvert_exporter": "python",
   "pygments_lexer": "ipython3",
   "version": "3.11.5"
  }
 },
 "nbformat": 4,
 "nbformat_minor": 2
}
