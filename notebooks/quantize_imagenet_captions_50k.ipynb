{
 "cells": [
  {
   "cell_type": "code",
   "execution_count": 10,
   "metadata": {},
   "outputs": [],
   "source": [
    "import torch\n",
    "import torch.nn.functional as F\n",
    "import numpy as np\n",
    "import os\n",
    "from tqdm import tqdm\n",
    "import seaborn as sns\n",
    "import matplotlib.pyplot as plt\n",
    "\n",
    "import sys\n",
    "sys.path.append(\"..\")\n",
    "from src.quantize import cluster_feat"
   ]
  },
  {
   "cell_type": "code",
   "execution_count": 2,
   "metadata": {},
   "outputs": [],
   "source": [
    "DATASET = \"imagenet_captions_50k\""
   ]
  },
  {
   "cell_type": "markdown",
   "metadata": {},
   "source": [
    "### Create Dataset"
   ]
  },
  {
   "cell_type": "code",
   "execution_count": 3,
   "metadata": {},
   "outputs": [],
   "source": [
    "data_dir = f\"/mnt/ssd/ronak/datasets/{DATASET}\"\n",
    "\n",
    "img = torch.from_numpy(torch.load(os.path.join(data_dir, \"vit_b32_laion2b_image_features.pt\")))\n",
    "txt = torch.from_numpy(torch.load(os.path.join(data_dir, \"vit_b32_laion2b_text_features.pt\")))\n",
    "idx = torch.load(os.path.join(data_dir, \"vit_b32_laion2b_idx.pt\"))"
   ]
  },
  {
   "cell_type": "code",
   "execution_count": 4,
   "metadata": {},
   "outputs": [
    {
     "data": {
      "text/plain": [
       "array([1.        , 1.        , 1.0000001 , 0.99999994, 1.        ,\n",
       "       1.        , 1.        , 0.99999994, 1.        , 1.        ],\n",
       "      dtype=float32)"
      ]
     },
     "execution_count": 4,
     "metadata": {},
     "output_type": "execute_result"
    }
   ],
   "source": [
    "# data should be prenormalized\n",
    "np.linalg.norm(img[:10], axis=1)"
   ]
  },
  {
   "cell_type": "code",
   "execution_count": 5,
   "metadata": {},
   "outputs": [],
   "source": [
    "n = len(img)\n",
    "np.random.seed(123)\n",
    "test_size = int(0.1 * n)\n",
    "\n",
    "train_idx = np.random.choice(n, size=(n - test_size), replace=False)\n",
    "test_idx = np.delete(np.arange(n), train_idx)\n",
    "assert len(np.intersect1d(train_idx, test_idx)) == 0\n",
    "assert len(np.union1d(train_idx, test_idx)) == n"
   ]
  },
  {
   "cell_type": "code",
   "execution_count": 6,
   "metadata": {},
   "outputs": [
    {
     "name": "stdout",
     "output_type": "stream",
     "text": [
      "torch.Size([43422, 512])\n",
      "torch.Size([43422, 512])\n",
      "torch.Size([4824, 512])\n",
      "torch.Size([4824, 512])\n"
     ]
    }
   ],
   "source": [
    "train_idx = torch.from_numpy(train_idx)\n",
    "test_idx = torch.from_numpy(test_idx)\n",
    "\n",
    "x_train, x_test = img[train_idx], img[test_idx]\n",
    "y_train, y_test = txt[train_idx], txt[test_idx]\n",
    "\n",
    "print(x_train.shape)\n",
    "print(y_train.shape)\n",
    "print(x_test.shape)\n",
    "print(y_test.shape)"
   ]
  },
  {
   "cell_type": "code",
   "execution_count": 7,
   "metadata": {},
   "outputs": [],
   "source": [
    "torch.save(x_train, os.path.join(data_dir, \"x_train.pt\"))\n",
    "torch.save(y_train, os.path.join(data_dir, \"y_train.pt\"))\n",
    "torch.save(x_test, os.path.join(data_dir, \"x_test.pt\"))\n",
    "torch.save(y_test, os.path.join(data_dir, \"y_test.pt\"))"
   ]
  },
  {
   "cell_type": "markdown",
   "metadata": {},
   "source": [
    "### Perform Quantization"
   ]
  },
  {
   "cell_type": "code",
   "execution_count": 3,
   "metadata": {},
   "outputs": [],
   "source": [
    "NUM_CLUSTERS = 100\n",
    "SEED = 4282022\n",
    "MODEL_NAME = \"vit_b32_laion2b\"\n",
    "DATA_PATH = f'/mnt/ssd/ronak/datasets/{DATASET}'"
   ]
  },
  {
   "cell_type": "code",
   "execution_count": 4,
   "metadata": {},
   "outputs": [],
   "source": [
    "all_image_features = torch.load(os.path.join(DATA_PATH, \"x_train.pt\"))\n",
    "all_text_features = torch.load(os.path.join(DATA_PATH, \"y_train.pt\"))"
   ]
  },
  {
   "cell_type": "code",
   "execution_count": 5,
   "metadata": {},
   "outputs": [
    {
     "name": "stdout",
     "output_type": "stream",
     "text": [
      "image marginal: [0.0117452  0.00907374 0.0214868  0.00905071 0.01515361 0.01455483\n",
      " 0.01006402 0.01683478 0.01602874 0.02590853 0.01570632 0.01787113\n",
      " 0.01559117 0.01052462 0.00916586 0.00845194 0.01142278 0.012367\n",
      " 0.01388697 0.01036341 0.01939109 0.01218276 0.01061674 0.0067247\n",
      " 0.01667358 0.01600571 0.01941412 0.00658652 0.01644328 0.01503846\n",
      " 0.00937313 0.01008705 0.01393303 0.01324214 0.00902768 0.01644328\n",
      " 0.01685781 0.01331122 0.00930404 0.01015614 0.01315002 0.00939616\n",
      " 0.00624108 0.01186035 0.0078071  0.01310396 0.0093501  0.02422735\n",
      " 0.00808346 0.01787113 0.0147621  0.01073189 0.01204459 0.00870526\n",
      " 0.00971858 0.01777901 0.01215973 0.00928101 0.00987978 0.0523928\n",
      " 0.02293768 0.02079591 0.01031735 0.01047856 0.01770992 0.00983372\n",
      " 0.01490028 0.02153286 0.00891253 0.00769195 0.01469301 0.00854406\n",
      " 0.00928101 0.00776104]\n"
     ]
    }
   ],
   "source": [
    "image_labels, image_cluster = cluster_feat(all_image_features, NUM_CLUSTERS, seed=SEED)\n",
    "_, counts = np.unique(image_labels, return_counts=True)\n",
    "image_marginal = counts / counts.sum()\n",
    "print(f\"image marginal: {image_marginal}\")"
   ]
  },
  {
   "cell_type": "code",
   "execution_count": 6,
   "metadata": {},
   "outputs": [
    {
     "name": "stdout",
     "output_type": "stream",
     "text": [
      "image marginal: [0.01547603 0.0088895  0.02033531 0.00736954 0.01006402 0.01326517\n",
      " 0.01363364 0.00654046 0.01727235 0.01135369 0.09142831 0.00764589\n",
      " 0.01906867 0.00690894 0.01741053 0.00716227 0.00840588 0.00944222\n",
      " 0.01239003 0.00902768 0.00969555 0.01130763 0.0143706  0.03132053\n",
      " 0.02740546 0.01123854 0.00948828 0.00882041 0.01397909 0.01858505\n",
      " 0.01457786 0.01711114 0.0080374  0.03645617 0.01814748 0.00764589\n",
      " 0.01941412 0.01222882 0.01250518 0.01275851 0.0115149  0.0143706\n",
      " 0.01052462 0.00723136 0.0156142  0.00644834 0.01559117 0.09983419\n",
      " 0.012367   0.12168947 0.00877435 0.00697803 0.01538391 0.02549399]\n"
     ]
    }
   ],
   "source": [
    "text_labels, text_cluster = cluster_feat(all_text_features, NUM_CLUSTERS, seed=SEED)\n",
    "_, counts = np.unique(text_labels, return_counts=True)\n",
    "text_marginal = counts / counts.sum()\n",
    "print(f\"image marginal: {text_marginal}\")"
   ]
  },
  {
   "cell_type": "code",
   "execution_count": 7,
   "metadata": {},
   "outputs": [
    {
     "name": "stdout",
     "output_type": "stream",
     "text": [
      "8.394833948339484\n",
      "18.871428571428574\n"
     ]
    }
   ],
   "source": [
    "print(image_marginal.max() / image_marginal.min())\n",
    "print(text_marginal.max() / text_marginal.min())"
   ]
  },
  {
   "cell_type": "code",
   "execution_count": 8,
   "metadata": {},
   "outputs": [],
   "source": [
    "save_dir = f'/mnt/ssd/ronak/datasets/{DATASET}/quantization/{MODEL_NAME}_kmeans_{NUM_CLUSTERS}'\n",
    "os.makedirs(save_dir, exist_ok=True)\n",
    "\n",
    "np.save(os.path.join(save_dir, f'image_labels.npy'), image_labels)\n",
    "np.save(os.path.join(save_dir, f'text_labels.npy'), text_labels)\n",
    "np.save(os.path.join(save_dir, f'image_marginal.npy'), image_marginal)\n",
    "np.save(os.path.join(save_dir, f'text_marginal.npy'), text_marginal)"
   ]
  },
  {
   "cell_type": "code",
   "execution_count": 11,
   "metadata": {},
   "outputs": [
    {
     "name": "stdout",
     "output_type": "stream",
     "text": [
      "/mnt/ssd/ronak/datasets/imagenet_captions_50k/quantization/vit_b32_laion2b_kmeans_100/image_labels.npy\n"
     ]
    }
   ],
   "source": [
    "print(os.path.join(save_dir, f'image_labels.npy'))"
   ]
  },
  {
   "cell_type": "code",
   "execution_count": 9,
   "metadata": {},
   "outputs": [],
   "source": [
    "# bad event probability\n",
    "def simulate_probability(arr, b, s=1000):\n",
    "    np.random.seed(123)\n",
    "    num_clusters = len(np.unique(arr))\n",
    "    count = 0\n",
    "    for _ in range(s):\n",
    "        batch = np.random.choice(arr, size=(b,), replace=False)\n",
    "        count += int(len(np.unique(batch)) == num_clusters)\n",
    "    return count / s\n",
    "\n",
    "def make_plot(num_clusters, dataset):\n",
    "    sns.set_style(\"whitegrid\")\n",
    "    fig, axes = plt.subplots(1, 2, figsize=(10, 5))\n",
    "    fig.suptitle(f\"{dataset}\")\n",
    "\n",
    "    model_name = \"vit_b32_laion2b\"\n",
    "    save_dir = f'/mnt/ssd/ronak/datasets/{dataset}/quantization/{model_name}_kmeans_{num_clusters}'\n",
    "\n",
    "    image_labels_sorted = np.load(os.path.join(save_dir, f'image_labels.npy'))\n",
    "    text_labels_sorted = np.load(os.path.join(save_dir, f'text_labels.npy'))\n",
    "\n",
    "    print(len(np.unique(image_labels_sorted)))\n",
    "\n",
    "    make_ax(axes[0], image_labels_sorted, \"Image\")\n",
    "    make_ax(axes[1], text_labels_sorted, \"Text\")\n",
    "\n",
    "    plt.show()\n",
    "\n",
    "def make_ax(ax, arr, modality):\n",
    "    probs = []\n",
    "    batch_sizes =  [16, 32, 64, 128, 256, 512, 1024]\n",
    "    for b in tqdm(batch_sizes):\n",
    "        probs.append(simulate_probability(arr, b))\n",
    "\n",
    "    _, counts = np.unique(arr, return_counts=True)\n",
    "    # avg_count = sum(counts ** 2) / counts.sum()\n",
    "    avg_count = np.mean(counts)\n",
    "    print(f\"{modality} marginal: {counts / counts.sum()}\")\n",
    "\n",
    "    ax.plot(batch_sizes, probs, linewidth=3)\n",
    "    ax.set_xlabel(\"Batch Size\")\n",
    "    ax.set_ylabel(\"Probability of Good Event\")\n",
    "    ax.set_xscale(\"log\")\n",
    "    ax.set_xticks(batch_sizes)\n",
    "    ax.set_xticklabels(batch_sizes)\n",
    "    ax.set_title(f\"{len(counts)} {modality} Clusters (Avg. Size {avg_count:0.2f})\")"
   ]
  },
  {
   "cell_type": "code",
   "execution_count": 10,
   "metadata": {},
   "outputs": [
    {
     "name": "stdout",
     "output_type": "stream",
     "text": [
      "74\n"
     ]
    },
    {
     "name": "stderr",
     "output_type": "stream",
     "text": [
      "100%|██████████| 7/7 [00:03<00:00,  1.78it/s]\n"
     ]
    },
    {
     "name": "stdout",
     "output_type": "stream",
     "text": [
      "Image marginal: [0.0117452  0.00907374 0.0214868  0.00905071 0.01515361 0.01455483\n",
      " 0.01006402 0.01683478 0.01602874 0.02590853 0.01570632 0.01787113\n",
      " 0.01559117 0.01052462 0.00916586 0.00845194 0.01142278 0.012367\n",
      " 0.01388697 0.01036341 0.01939109 0.01218276 0.01061674 0.0067247\n",
      " 0.01667358 0.01600571 0.01941412 0.00658652 0.01644328 0.01503846\n",
      " 0.00937313 0.01008705 0.01393303 0.01324214 0.00902768 0.01644328\n",
      " 0.01685781 0.01331122 0.00930404 0.01015614 0.01315002 0.00939616\n",
      " 0.00624108 0.01186035 0.0078071  0.01310396 0.0093501  0.02422735\n",
      " 0.00808346 0.01787113 0.0147621  0.01073189 0.01204459 0.00870526\n",
      " 0.00971858 0.01777901 0.01215973 0.00928101 0.00987978 0.0523928\n",
      " 0.02293768 0.02079591 0.01031735 0.01047856 0.01770992 0.00983372\n",
      " 0.01490028 0.02153286 0.00891253 0.00769195 0.01469301 0.00854406\n",
      " 0.00928101 0.00776104]\n"
     ]
    },
    {
     "name": "stderr",
     "output_type": "stream",
     "text": [
      "100%|██████████| 7/7 [00:03<00:00,  1.82it/s]\n"
     ]
    },
    {
     "name": "stdout",
     "output_type": "stream",
     "text": [
      "Text marginal: [0.01547603 0.0088895  0.02033531 0.00736954 0.01006402 0.01326517\n",
      " 0.01363364 0.00654046 0.01727235 0.01135369 0.09142831 0.00764589\n",
      " 0.01906867 0.00690894 0.01741053 0.00716227 0.00840588 0.00944222\n",
      " 0.01239003 0.00902768 0.00969555 0.01130763 0.0143706  0.03132053\n",
      " 0.02740546 0.01123854 0.00948828 0.00882041 0.01397909 0.01858505\n",
      " 0.01457786 0.01711114 0.0080374  0.03645617 0.01814748 0.00764589\n",
      " 0.01941412 0.01222882 0.01250518 0.01275851 0.0115149  0.0143706\n",
      " 0.01052462 0.00723136 0.0156142  0.00644834 0.01559117 0.09983419\n",
      " 0.012367   0.12168947 0.00877435 0.00697803 0.01538391 0.02549399]\n"
     ]
    },
    {
     "data": {
      "image/png": "[encoded data removed]",
      "text/plain": [
       "<Figure size 1000x500 with 2 Axes>"
      ]
     },
     "metadata": {},
     "output_type": "display_data"
    }
   ],
   "source": [
    "num_clusters = 100\n",
    "\n",
    "make_plot(num_clusters, DATASET)"
   ]
  },
  {
   "cell_type": "markdown",
   "metadata": {},
   "source": [
    "### Compute Baseline Loss"
   ]
  },
  {
   "cell_type": "code",
   "execution_count": 11,
   "metadata": {},
   "outputs": [],
   "source": [
    "def compute_clip_loss(x, y, scale=100.0):\n",
    "    # scale is taken from vit_b32_laion2b model\n",
    "    logits = torch.matmul(x, y.T) * scale\n",
    "    labels = torch.arange(len(logits))\n",
    "    loss_i = torch.nn.functional.cross_entropy(logits, labels)\n",
    "    loss_t = torch.nn.functional.cross_entropy(logits.T, labels)\n",
    "    loss = (loss_i + loss_t) / 2\n",
    "    return loss\n",
    "\n",
    "def compute_jointly_centered_loss(x, y, scale=100.0):\n",
    "    # scale is taken from vit_b32_laion2b model\n",
    "    logits = torch.matmul(x, y.T) * scale\n",
    "    norm_factor = torch.logsumexp(torch.flatten(logits), dim=0)\n",
    "    loss = -torch.mean(torch.diagonal(logits) - norm_factor)\n",
    "    return loss\n",
    "\n",
    "def compute_doubly_centered_loss(x, y, scale=100.0):\n",
    "    # scale is taken from vit_b32_laion2b model\n",
    "    logits = torch.matmul(x, y.T) * scale\n",
    "    cx   = F.log_softmax(logits, dim=1)\n",
    "    cy   = F.log_softmax(logits, dim=0)\n",
    "    cycx = F.log_softmax(cx, dim=0)\n",
    "    cxcy = F.log_softmax(cy, dim=1)\n",
    "    loss = -torch.mean(0.5 * torch.diagonal(cycx) + 0.5 * torch.diagonal(cxcy))\n",
    "    return loss\n",
    "        \n",
    "def compute_loss(batch_size, X, Y, batch_loss, n_bootstrap=3000):\n",
    "    N = len(X)\n",
    "    np.random.seed(123)\n",
    "    losses = torch.zeros(n_bootstrap)\n",
    "    for i in tqdm(range(n_bootstrap)):\n",
    "        idx = np.random.choice(N, size=(batch_size,), replace=False)\n",
    "        losses[i] = batch_loss(X[idx], Y[idx])\n",
    "    return losses.mean()\n",
    "\n",
    "model_name = 'vit-b32-laion2b_s34b_b79k'"
   ]
  },
  {
   "cell_type": "code",
   "execution_count": 6,
   "metadata": {},
   "outputs": [],
   "source": [
    "data_dir = f\"/mnt/ssd/ronak/datasets/{DATASET}\"\n",
    "\n",
    "x_train = torch.load(os.path.join(data_dir, \"x_train.pt\"))\n",
    "y_train = torch.load(os.path.join(data_dir, \"y_train.pt\"))\n",
    "x_test = torch.load(os.path.join(data_dir, \"x_test.pt\"))\n",
    "y_test = torch.load(os.path.join(data_dir, \"y_test.pt\"))"
   ]
  },
  {
   "cell_type": "code",
   "execution_count": 7,
   "metadata": {},
   "outputs": [
    {
     "name": "stderr",
     "output_type": "stream",
     "text": [
      "100%|██████████| 3000/3000 [00:07<00:00, 375.48it/s]\n",
      "100%|██████████| 3000/3000 [00:05<00:00, 524.70it/s]"
     ]
    },
    {
     "name": "stdout",
     "output_type": "stream",
     "text": [
      "model:        vit-b32-laion2b_s34b_b79k\n",
      "batch size:   512\n",
      "  train loss: 4.48539\n",
      "  test loss:  4.56147\n"
     ]
    },
    {
     "name": "stderr",
     "output_type": "stream",
     "text": [
      "\n"
     ]
    }
   ],
   "source": [
    "# CLIP Loss\n",
    "\n",
    "batch_size = 512\n",
    "\n",
    "train_loss = compute_loss(batch_size, x_train, y_train, compute_clip_loss)\n",
    "test_loss = compute_loss(batch_size, x_test, y_test, compute_clip_loss)\n",
    "\n",
    "print(f\"model:        {model_name}\")\n",
    "print(f\"batch size:   {batch_size}\")\n",
    "print(f\"  train loss: {train_loss:0.5f}\")\n",
    "print(f\"  test loss:  {test_loss:0.5f}\")"
   ]
  },
  {
   "cell_type": "code",
   "execution_count": 8,
   "metadata": {},
   "outputs": [
    {
     "name": "stderr",
     "output_type": "stream",
     "text": [
      "100%|██████████| 3000/3000 [00:06<00:00, 488.79it/s]\n",
      "100%|██████████| 3000/3000 [00:03<00:00, 815.34it/s]"
     ]
    },
    {
     "name": "stdout",
     "output_type": "stream",
     "text": [
      "model:        vit-b32-laion2b_s34b_b79k\n",
      "batch size:   512\n",
      "  train loss: 15.30892\n",
      "  test loss:  16.47509\n"
     ]
    },
    {
     "name": "stderr",
     "output_type": "stream",
     "text": [
      "\n"
     ]
    }
   ],
   "source": [
    "# Jointly Centered CLIP Loss\n",
    "\n",
    "batch_size = 512\n",
    "\n",
    "train_loss = compute_loss(batch_size, x_train, y_train, compute_jointly_centered_loss)\n",
    "test_loss = compute_loss(batch_size, x_test, y_test, compute_jointly_centered_loss)\n",
    "\n",
    "print(f\"model:        {model_name}\")\n",
    "print(f\"batch size:   {batch_size}\")\n",
    "print(f\"  train loss: {train_loss:0.5f}\")\n",
    "print(f\"  test loss:  {test_loss:0.5f}\")"
   ]
  },
  {
   "cell_type": "code",
   "execution_count": 12,
   "metadata": {},
   "outputs": [
    {
     "name": "stderr",
     "output_type": "stream",
     "text": [
      "100%|██████████| 3000/3000 [00:08<00:00, 342.21it/s]\n",
      "100%|██████████| 3000/3000 [00:06<00:00, 429.04it/s]"
     ]
    },
    {
     "name": "stdout",
     "output_type": "stream",
     "text": [
      "model:        vit-b32-laion2b_s34b_b79k\n",
      "batch size:   512\n",
      "  train loss: 3.70584\n",
      "  test loss:  3.76065\n"
     ]
    },
    {
     "name": "stderr",
     "output_type": "stream",
     "text": [
      "\n"
     ]
    }
   ],
   "source": [
    "# Doubly Centered CLIP Loss\n",
    "\n",
    "batch_size = 512\n",
    "\n",
    "train_loss = compute_loss(batch_size, x_train, y_train, compute_doubly_centered_loss)\n",
    "test_loss = compute_loss(batch_size, x_test, y_test, compute_doubly_centered_loss)\n",
    "\n",
    "print(f\"model:        {model_name}\")\n",
    "print(f\"batch size:   {batch_size}\")\n",
    "print(f\"  train loss: {train_loss:0.5f}\")\n",
    "print(f\"  test loss:  {test_loss:0.5f}\")"
   ]
  },
  {
   "cell_type": "code",
   "execution_count": null,
   "metadata": {},
   "outputs": [],
   "source": []
  }
 ],
 "metadata": {
  "kernelspec": {
   "display_name": "dl",
   "language": "python",
   "name": "python3"
  },
  "language_info": {
   "codemirror_mode": {
    "name": "ipython",
    "version": 3
   },
   "file_extension": ".py",
   "mimetype": "text/x-python",
   "name": "python",
   "nbconvert_exporter": "python",
   "pygments_lexer": "ipython3",
   "version": "3.11.5"
  }
 },
 "nbformat": 4,
 "nbformat_minor": 2
}
