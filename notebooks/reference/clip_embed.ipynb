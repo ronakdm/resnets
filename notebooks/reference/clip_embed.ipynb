{
 "cells": [
  {
   "cell_type": "markdown",
   "id": "497dc0e5",
   "metadata": {},
   "source": [
    "# Monitoring Dependency During Clip Training"
   ]
  },
  {
   "cell_type": "code",
   "execution_count": null,
   "id": "ff87e12f",
   "metadata": {},
   "outputs": [],
   "source": [
    "%load_ext autoreload\n",
    "%autoreload 2"
   ]
  },
  {
   "cell_type": "code",
   "execution_count": null,
   "id": "2aac887d",
   "metadata": {},
   "outputs": [],
   "source": [
    "import json\n",
    "import os\n",
    "import sys\n",
    "\n",
    "import numpy as np\n",
    "import ot\n",
    "import torch\n",
    "\n",
    "\n",
    "sys.path.append('../')\n",
    "from src.ind_tests import HSICTest\n",
    "from src.utils import median_dist\n",
    "from open_clip.src.clip.clip import _transform\n",
    "from open_clip.src.clip.model import CLIP, convert_weights\n",
    "from open_clip.src.training.data import get_dataset_fn"
   ]
  },
  {
   "cell_type": "code",
   "execution_count": null,
   "id": "fdb1aee9",
   "metadata": {},
   "outputs": [],
   "source": [
    "MODEL = 'yfcc15M_b128'  # model trained with 15M data (from Mitchell)\n",
    "#MODEL = 'yfcc15M_b64'\n",
    "\n",
    "DATA_PATH = '/mnt/hdd2/liu16/data/yfcc'\n",
    "EMBED_PATH = f'/mnt/hdd2/liu16/open_clip/{MODEL}/embeddings'\n",
    "CKP_PATH = f'/mnt/hdd2/liu16/open_clip/{MODEL}/checkpoints'\n",
    "\n",
    "DEVICE = 'cuda:1' if torch.cuda.is_available() else \"cpu\""
   ]
  },
  {
   "cell_type": "markdown",
   "id": "f5ee51fe",
   "metadata": {},
   "source": [
    "## Obtain feature embeddings from the model checkpoints"
   ]
  },
  {
   "cell_type": "code",
   "execution_count": null,
   "id": "1d913309",
   "metadata": {},
   "outputs": [],
   "source": [
    "class dotdict(dict):\n",
    "    \"\"\"dot.notation access to dictionary attributes\"\"\"\n",
    "    __getattr__ = dict.get\n",
    "    __setattr__ = dict.__setitem__\n",
    "    __delattr__ = dict.__delitem__\n",
    "    \n",
    "    \n",
    "def integer_to_string(n, length=5):\n",
    "    out = str(n)\n",
    "    out = '0'*(length - len(out)) + out\n",
    "    return out\n",
    "\n",
    "\n",
    "def parse_args(data_id=0, init=14720):\n",
    "    start = integer_to_string(init)\n",
    "    end = integer_to_string(data_id + init)\n",
    "    batch_size = 64\n",
    "    if 'b128' in MODEL:\n",
    "        batch_size = 128\n",
    "    args = {\n",
    "        'val_data': DATA_PATH + '/shard_{' + start + '..' + end + '}.tar',\n",
    "        'batch_size': batch_size,\n",
    "        'distributed': False,\n",
    "        'workers': 1}\n",
    "    return dotdict(args)\n",
    "\n",
    "\n",
    "def load_model(epoch, model_info):\n",
    "    ckp = f'{CKP_PATH}/epoch_{epoch}.pt'\n",
    "    checkpoint = torch.load(ckp, map_location=DEVICE)\n",
    "    sd = checkpoint[\"state_dict\"]\n",
    "    sd = {k[len('module.'):]: v for k, v in sd.items()}\n",
    "\n",
    "    model = CLIP(**model_info)\n",
    "    convert_weights(model)\n",
    "    model.load_state_dict(sd)\n",
    "    model.to(DEVICE)\n",
    "    model.eval()\n",
    "    return model\n",
    "\n",
    "\n",
    "def obtain_embed(epoch, data_id, model, preprocess_val, init_id=14720):\n",
    "    args = parse_args(data_id, init_id)\n",
    "    val_data = get_dataset_fn('shard.tar', 'webdataset')(args, preprocess_val, is_train=False)\n",
    "    data_loader = val_data.dataloader\n",
    "    \n",
    "    all_image_features, all_text_features = [], []\n",
    "    with torch.no_grad():\n",
    "        for batch in data_loader:\n",
    "            images, text = batch\n",
    "            images = images.cuda(DEVICE, non_blocking=True)\n",
    "            text = text.cuda(DEVICE, non_blocking=True)\n",
    "#             image_features = model.encode_image(images)\n",
    "#             text_features = model.encode_text(text)\n",
    "            image_features, text_features, _ = model(images, text)\n",
    "            all_image_features.append(image_features)\n",
    "            all_text_features.append(text_features)\n",
    "\n",
    "    embed = torch.cat(all_image_features + all_text_features).cpu().detach().numpy()\n",
    "    start = integer_to_string(init_id)\n",
    "    end = integer_to_string(data_id + init_id)\n",
    "    np.savetxt(f'{EMBED_PATH}/epoch_{epoch}/shard_{end}.txt', embed)"
   ]
  },
  {
   "cell_type": "code",
   "execution_count": null,
   "id": "0c3aedb6",
   "metadata": {},
   "outputs": [],
   "source": [
    "with open('../open_clip/src/training/model_configs/RN50.json', 'r') as f:\n",
    "    model_info = json.load(f)"
   ]
  },
  {
   "cell_type": "code",
   "execution_count": null,
   "id": "3efadad6",
   "metadata": {},
   "outputs": [],
   "source": [
    "for ckp in os.listdir(CKP_PATH):\n",
    "    if '.pt' not in ckp:\n",
    "        continue\n",
    "    epoch = ckp[:-3].split('_')[1]\n",
    "    print(f'epoch = {epoch}')\n",
    "    if f'epoch_{epoch}' not in os.listdir(EMBED_PATH):\n",
    "        os.system(f'mkdir {EMBED_PATH}/epoch_{epoch}')\n",
    "    model = load_model(epoch, model_info)\n",
    "    preprocess_val = _transform(model.visual.input_resolution, is_train=False)\n",
    "    for data_id in range(10):\n",
    "        # set init_id = 0 for training set\n",
    "        obtain_embed(epoch, data_id, model, preprocess_val)"
   ]
  },
  {
   "cell_type": "code",
   "execution_count": null,
   "id": "d066e202",
   "metadata": {},
   "outputs": [],
   "source": []
  },
  {
   "cell_type": "code",
   "execution_count": null,
   "id": "91f3c707",
   "metadata": {},
   "outputs": [],
   "source": [
    "alpha = 0.05\n",
    "nperms = 500\n",
    "hsic = HSICTest()"
   ]
  },
  {
   "cell_type": "code",
   "execution_count": null,
   "id": "60ff4210",
   "metadata": {},
   "outputs": [],
   "source": [
    "xdist = ot.dist(X, X)\n",
    "ydist = ot.dist(Y, Y)\n"
   ]
  },
  {
   "cell_type": "code",
   "execution_count": null,
   "id": "609abcb1",
   "metadata": {},
   "outputs": [],
   "source": [
    "res1, res2, res3 = [], [], []\n",
    "for i in range(1, 2):\n",
    "    embed = np.loadtxt(f'data/image-text/cc-data/size{size}-part{i}.txt')\n",
    "    X, Y, Z, W = embed[:size], embed[size:2*size], embed[2*size:3*size], embed[3*size:4*size]\n",
    "    xeps, yeps = median_dist(X, Y)\n",
    "    xeps, zeps = median_dist(X, Z)\n",
    "    xeps, weps = median_dist(X, W)\n",
    "    xgram = np.exp(-ot.dist(X, X)/xeps)\n",
    "    ygram = np.exp(-ot.dist(Y, Y)/yeps)\n",
    "    zgram = np.exp(-ot.dist(Z, Z)/zeps)\n",
    "    wgram = np.exp(-ot.dist(W, W)/weps)\n",
    "    res1.append(hsic.decision(xgram, ygram, alpha, nperms))\n",
    "    res2.append(hsic.decision(xgram, wgram, alpha, nperms))\n",
    "    res3.append(hsic.decision(zgram, ygram, alpha, nperms))\n",
    "print(np.mean(res1))\n",
    "print(np.mean(res2))\n",
    "print(np.mean(res3))"
   ]
  },
  {
   "cell_type": "code",
   "execution_count": null,
   "id": "50af6d0d",
   "metadata": {},
   "outputs": [],
   "source": []
  }
 ],
 "metadata": {
  "kernelspec": {
   "display_name": "clip",
   "language": "python",
   "name": "clip"
  },
  "language_info": {
   "codemirror_mode": {
    "name": "ipython",
    "version": 3
   },
   "file_extension": ".py",
   "mimetype": "text/x-python",
   "name": "python",
   "nbconvert_exporter": "python",
   "pygments_lexer": "ipython3",
   "version": "3.8.11"
  }
 },
 "nbformat": 4,
 "nbformat_minor": 5
}
