{
 "cells": [
  {
   "cell_type": "code",
   "execution_count": null,
   "metadata": {},
   "outputs": [],
   "source": [
    "import torch\n",
    "import pandas as pd\n",
    "import numpy as np\n",
    "import numpy.random as npr\n",
    "import itertools\n",
    "# from torchvision.datasets import CIFAR10\n",
    "# from torchvision.transforms import Compose, RandomCrop, RandomHorizontalFlip, CenterCrop"
   ]
  },
  {
   "cell_type": "markdown",
   "metadata": {},
   "source": [
    "### Number of Quantization Categories"
   ]
  },
  {
   "cell_type": "code",
   "execution_count": null,
   "metadata": {},
   "outputs": [],
   "source": [
    "def simulate_probably(n, k, b, s=1000):\n",
    "    np.random.seed(123)\n",
    "    count = 0\n",
    "    for _ in range(s):\n",
    "        objects = np.random.choice(k, size=(n,))\n",
    "        batch = np.random.choice(objects, size=(b,), replace=False)\n",
    "        count += int(len(np.unique(batch)) == k)\n",
    "    return count / s"
   ]
  },
  {
   "cell_type": "code",
   "execution_count": null,
   "metadata": {},
   "outputs": [],
   "source": [
    "n = 50000\n",
    "b = 512\n",
    "k = 60\n",
    "\n",
    "simulate_probably(n, k, b)"
   ]
  },
  {
   "cell_type": "markdown",
   "metadata": {},
   "source": [
    "### Raking Estimator"
   ]
  },
  {
   "cell_type": "code",
   "execution_count": null,
   "metadata": {},
   "outputs": [],
   "source": [
    "def is_good_event(ix, iy, px, py):\n",
    "    return len(torch.unique(ix)) == len(px) and len(torch.unique(iy)) == len(py)\n",
    "\n",
    "def get_empirical_pmf(ix, iy):\n",
    "    # count pairs\n",
    "    pairs = list(zip(ix, iy))\n",
    "    ind, count = np.unique(pairs, axis=0, return_counts=True)\n",
    "    cmat = np.zeros(sizes)\n",
    "    cmat[ind[:, 0], ind[:, 1]] = count\n",
    "    return cmat / len(pairs)\n",
    "\n",
    "def raking_ratio(X, Y, marginals, num_iter):\n",
    "    pmat = count_freq(X, Y, (len(marginals[0]), len(marginals[1])))\n",
    "    if np.sum(np.sum(pmat, axis=1) == 0) + np.sum(np.sum(pmat, axis=0) == 0) > 0:\n",
    "        raise RuntimeError(\n",
    "            \"Missing mass in this sample. Try a larger sample size.\")\n",
    "        \n",
    "    est = [pmat]\n",
    "    for _ in range(num_iter):\n",
    "        pmat = (marginals[0] / np.sum(pmat, axis=1)).reshape(-1, 1) * pmat\n",
    "        pmat = pmat * (marginals[1] / np.sum(pmat, axis=0))\n",
    "        est.append(pmat)\n",
    "    return est"
   ]
  },
  {
   "cell_type": "code",
   "execution_count": null,
   "metadata": {},
   "outputs": [],
   "source": [
    "def generate(pmat, size):\n",
    "    pairs = np.argwhere(pmat > -1)\n",
    "    indices = npr.choice(len(pairs), size=size, p=pmat.reshape(-1), replace=True)\n",
    "    return pairs[indices][:, 0], pairs[indices][:, 1]\n",
    "\n",
    "def count_freq(X, Y, sizes):\n",
    "    # count pairs\n",
    "    pairs = list(zip(X, Y))\n",
    "    ind, count = np.unique(pairs, axis=0, return_counts=True)\n",
    "    cmat = np.zeros(sizes)\n",
    "    cmat[ind[:, 0], ind[:, 1]] = count\n",
    "    return cmat / len(pairs), ind, count"
   ]
  },
  {
   "cell_type": "code",
   "execution_count": null,
   "metadata": {},
   "outputs": [],
   "source": [
    "npr.seed(552022)  # 05/05/2022\n",
    "\n",
    "m = 20\n",
    "prob = npr.rand(m, m)\n",
    "prob /= np.sum(prob)\n",
    "px, py = np.sum(prob, axis=1), np.sum(prob, axis=0)"
   ]
  },
  {
   "cell_type": "code",
   "execution_count": null,
   "metadata": {},
   "outputs": [],
   "source": [
    "marginals = (px, py)\n",
    "n = 512\n",
    "num_iter = 2\n",
    "X, Y = generate(prob, n)\n",
    "\n",
    "pmat, observed_bins, observed_counts = count_freq(X, Y, (len(marginals[0]), len(marginals[1])))\n",
    "# if np.sum(np.sum(pmat, axis=1) == 0) + np.sum(np.sum(pmat, axis=0) == 0) > 0:\n",
    "#      raise RuntimeError(\"Missing mass in this sample. Try a larger sample size.\")\n"
   ]
  },
  {
   "cell_type": "code",
   "execution_count": null,
   "metadata": {},
   "outputs": [],
   "source": [
    "pmat.shape"
   ]
  },
  {
   "cell_type": "code",
   "execution_count": null,
   "metadata": {},
   "outputs": [],
   "source": [
    "df1 = pd.DataFrame(\n",
    "    {\n",
    "        'ind': list(itertools.product(np.arange(n), np.arange(n))),\n",
    "        'bins': list(itertools.product(X, Y)),\n",
    "    }\n",
    ")\n",
    "df2 = pd.DataFrame(\n",
    "    {\n",
    "        'bins': list(itertools.product(np.arange(m), np.arange(m))),\n",
    "        'prob': pmat.reshape(-1)\n",
    "    }\n",
    ")\n",
    "bin_names, bin_counts = np.unique(df1['bins'], return_counts=True)\n",
    "# df3 = pd.DataFrame({'bins': [tuple(x) for x in observed_bins], \"counts\": observed_counts})\n",
    "# df = df1.merge(df2.merge(df3, on=\"bins\", how=\"left\").fillna(0.0), on=\"bins\", how=\"left\")\n",
    "df = df1.merge(df2, on=\"bins\", how=\"left\").merge(pd.DataFrame({'bins': bin_names, 'counts': bin_counts}), on=\"bins\", how=\"left\")\n",
    "df"
   ]
  },
  {
   "cell_type": "code",
   "execution_count": null,
   "metadata": {},
   "outputs": [],
   "source": [
    "bin_names, bin_counts = np.unique(df['bins'], return_counts=True)\n",
    "df = df.merge(pd.DataFrame({'bins': bin_names, 'counts': bin_counts}), on=\"bins\", how=\"left\")"
   ]
  },
  {
   "cell_type": "code",
   "execution_count": null,
   "metadata": {},
   "outputs": [],
   "source": [
    "weight = df['prob'].to_numpy() / np.maximum(1.0, df['counts'].to_numpy())"
   ]
  },
  {
   "cell_type": "code",
   "execution_count": null,
   "metadata": {},
   "outputs": [],
   "source": [
    "df['weight'] = df.apply(lambda x: x['prob'] / x['counts'] if x['counts'] else 0.0, axis=1)"
   ]
  },
  {
   "cell_type": "code",
   "execution_count": null,
   "metadata": {},
   "outputs": [],
   "source": [
    "weight = df['prob'].to_numpy() / np.maximum(1.0, df['counts'].to_numpy())"
   ]
  },
  {
   "cell_type": "code",
   "execution_count": null,
   "metadata": {},
   "outputs": [],
   "source": [
    "weight.sum()"
   ]
  },
  {
   "cell_type": "code",
   "execution_count": null,
   "metadata": {},
   "outputs": [],
   "source": [
    "idx = np.random.choice(np.arange(n ** 2), size=n, replace=True, p=weight)"
   ]
  },
  {
   "cell_type": "code",
   "execution_count": null,
   "metadata": {},
   "outputs": [],
   "source": [
    "df1.merge(df2, on=\"bins\", how=\"left\").fillna(0.0)"
   ]
  },
  {
   "cell_type": "code",
   "execution_count": null,
   "metadata": {},
   "outputs": [],
   "source": [
    "len(counts)"
   ]
  },
  {
   "cell_type": "code",
   "execution_count": null,
   "metadata": {},
   "outputs": [],
   "source": [
    "20 * 20"
   ]
  },
  {
   "cell_type": "code",
   "execution_count": null,
   "metadata": {},
   "outputs": [],
   "source": [
    "[tuple(x) for x in bins]"
   ]
  },
  {
   "cell_type": "code",
   "execution_count": null,
   "metadata": {},
   "outputs": [],
   "source": [
    "len(counts)"
   ]
  },
  {
   "cell_type": "code",
   "execution_count": null,
   "metadata": {},
   "outputs": [],
   "source": []
  }
 ],
 "metadata": {
  "kernelspec": {
   "display_name": "dl",
   "language": "python",
   "name": "python3"
  },
  "language_info": {
   "codemirror_mode": {
    "name": "ipython",
    "version": 3
   },
   "file_extension": ".py",
   "mimetype": "text/x-python",
   "name": "python",
   "nbconvert_exporter": "python",
   "pygments_lexer": "ipython3",
   "version": "3.11.5"
  }
 },
 "nbformat": 4,
 "nbformat_minor": 2
}
