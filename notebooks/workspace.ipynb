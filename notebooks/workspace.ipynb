{
 "cells": [
  {
   "cell_type": "code",
   "execution_count": 4,
   "metadata": {},
   "outputs": [],
   "source": [
    "import torch\n",
    "import numpy as np\n",
    "from torchvision.datasets import CIFAR10\n",
    "from torchvision.transforms import Compose, RandomCrop, RandomHorizontalFlip, CenterCrop"
   ]
  },
  {
   "cell_type": "code",
   "execution_count": 9,
   "metadata": {},
   "outputs": [],
   "source": [
    "class Cutout:\n",
    "    def __init__(self, size):\n",
    "        self.size = size\n",
    "\n",
    "    def __call__(self, x):\n",
    "        x0, y0 = torch.randint(x.shape[-2] - self.size, (1,)), torch.randint(\n",
    "            x.shape[-1] - self.size, (1,)\n",
    "        )\n",
    "        img = x.clone()\n",
    "        img[..., y0 : y0 + self.size, x0 : x0 + self.size] = 0.0\n",
    "        return img\n",
    "    \n",
    "def preprocess(x_tr, x_te, border=4):\n",
    "    # Pad\n",
    "    x_tr = np.pad(\n",
    "        x_tr, [(0, 0), (border, border), (border, border), (0, 0)], mode=\"reflect\"\n",
    "    )\n",
    "    x_te = np.pad(\n",
    "        x_te, [(0, 0), (border, border), (border, border), (0, 0)], mode=\"reflect\"\n",
    "    )\n",
    "\n",
    "    # Normalize.\n",
    "    mean, std = x_tr.mean(axis=0), x_tr.std(axis=0)\n",
    "    x_tr = (x_tr - mean) / std\n",
    "    x_te = (x_te - mean) / std\n",
    "\n",
    "    # Transpose to put channels before height and width.\n",
    "    x_tr = x_tr.transpose(0, 3, 1, 2)\n",
    "    x_te = x_te.transpose(0, 3, 1, 2)\n",
    "\n",
    "    return x_tr, x_te\n",
    "\n",
    "class ImageClassificationDataLoader:\n",
    "    def __init__(\n",
    "        self,\n",
    "        features,\n",
    "        labels,\n",
    "        batch_size,\n",
    "        device,\n",
    "        center=None,\n",
    "        crop=32,\n",
    "        flip=0.5,\n",
    "        cutout=8,\n",
    "    ):\n",
    "        if center:\n",
    "            self.pipeline = CenterCrop(center)\n",
    "        else:\n",
    "            pipeline = []\n",
    "            for param, transform in zip(\n",
    "                [crop, flip, cutout], [RandomCrop, RandomHorizontalFlip, Cutout]\n",
    "            ):\n",
    "                if param:\n",
    "                    pipeline.append(transform(param))\n",
    "            self.pipeline = Compose(pipeline)\n",
    "        self.batch_size = batch_size\n",
    "        self.device = device\n",
    "\n",
    "        self.features = features\n",
    "        self.labels = labels\n",
    "\n",
    "    def get_batch(self):\n",
    "        ix = torch.randint(len(self.features), (self.batch_size,))\n",
    "        x = torch.stack(\n",
    "            [self.pipeline(torch.from_numpy(self.features[i])) for i in ix]\n",
    "        )\n",
    "        y = torch.from_numpy(self.labels[ix])\n",
    "        if self.device != \"cpu\":\n",
    "            # pin arrays x,y, which allows us to move them to GPU asynchronously (non_blocking=True)\n",
    "            x, y = x.pin_memory().to(self.device, non_blocking=True), y.pin_memory().to(\n",
    "                self.device, non_blocking=True\n",
    "            )\n",
    "        return x, y"
   ]
  },
  {
   "cell_type": "code",
   "execution_count": 6,
   "metadata": {},
   "outputs": [],
   "source": [
    "def load_cifar10(batch_size, root=\"/mnt/ssd/ronak/datasets/\", device=\"cuda:0\"):\n",
    "    # Get train data.\n",
    "    train_data = CIFAR10(root, download=True)\n",
    "    test_data = CIFAR10(root, train=False, download=True)\n",
    "\n",
    "    x_train = train_data.data\n",
    "    x_test = test_data.data\n",
    "    y_train = np.array(train_data.targets)\n",
    "    y_test = np.array(test_data.targets)\n",
    "\n",
    "    # Apply preprocessing.\n",
    "    x_train, x_test = preprocess(x_train, x_test)\n",
    "\n",
    "    train_loader = ImageClassificationDataLoader(x_train, y_train, batch_size, device)\n",
    "    test_loader = ImageClassificationDataLoader(x_test, y_test, batch_size, device)\n",
    "\n",
    "    return train_loader, test_loader"
   ]
  },
  {
   "cell_type": "code",
   "execution_count": 10,
   "metadata": {},
   "outputs": [
    {
     "name": "stdout",
     "output_type": "stream",
     "text": [
      "Files already downloaded and verified\n",
      "Files already downloaded and verified\n"
     ]
    }
   ],
   "source": [
    "train_loader, test_loader = load_cifar10(512)"
   ]
  },
  {
   "cell_type": "code",
   "execution_count": 11,
   "metadata": {},
   "outputs": [],
   "source": [
    "x, y = train_loader.get_batch()"
   ]
  },
  {
   "cell_type": "code",
   "execution_count": 12,
   "metadata": {},
   "outputs": [
    {
     "data": {
      "text/plain": [
       "torch.Size([512, 3, 32, 32])"
      ]
     },
     "execution_count": 12,
     "metadata": {},
     "output_type": "execute_result"
    }
   ],
   "source": [
    "x.shape"
   ]
  },
  {
   "cell_type": "code",
   "execution_count": 2,
   "metadata": {},
   "outputs": [
    {
     "data": {
      "text/plain": [
       "['0']"
      ]
     },
     "execution_count": 2,
     "metadata": {},
     "output_type": "execute_result"
    }
   ],
   "source": [
    "\"0\".split(\":\")"
   ]
  },
  {
   "cell_type": "code",
   "execution_count": null,
   "metadata": {},
   "outputs": [],
   "source": []
  }
 ],
 "metadata": {
  "kernelspec": {
   "display_name": "dl",
   "language": "python",
   "name": "python3"
  },
  "language_info": {
   "codemirror_mode": {
    "name": "ipython",
    "version": 3
   },
   "file_extension": ".py",
   "mimetype": "text/x-python",
   "name": "python",
   "nbconvert_exporter": "python",
   "pygments_lexer": "ipython3",
   "version": "3.11.5"
  }
 },
 "nbformat": 4,
 "nbformat_minor": 2
}
