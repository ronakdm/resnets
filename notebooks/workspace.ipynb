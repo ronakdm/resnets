{
 "cells": [
  {
   "cell_type": "code",
   "execution_count": 1,
   "metadata": {},
   "outputs": [],
   "source": [
    "import torch\n",
    "import pandas as pd\n",
    "import numpy as np\n",
    "import numpy.random as npr\n",
    "import itertools\n",
    "# from torchvision.datasets import CIFAR10\n",
    "# from torchvision.transforms import Compose, RandomCrop, RandomHorizontalFlip, CenterCrop"
   ]
  },
  {
   "cell_type": "markdown",
   "metadata": {},
   "source": [
    "### Number of Quantization Categories"
   ]
  },
  {
   "cell_type": "code",
   "execution_count": 2,
   "metadata": {},
   "outputs": [],
   "source": [
    "def simulate_probably(n, k, b, s=1000):\n",
    "    np.random.seed(123)\n",
    "    count = 0\n",
    "    for _ in range(s):\n",
    "        objects = np.random.choice(k, size=(n,))\n",
    "        batch = np.random.choice(objects, size=(b,), replace=False)\n",
    "        count += int(len(np.unique(batch)) == k)\n",
    "    return count / s"
   ]
  },
  {
   "cell_type": "code",
   "execution_count": 3,
   "metadata": {},
   "outputs": [
    {
     "data": {
      "text/plain": [
       "0.995"
      ]
     },
     "execution_count": 3,
     "metadata": {},
     "output_type": "execute_result"
    }
   ],
   "source": [
    "n = 50000\n",
    "b = 512\n",
    "k = 60\n",
    "\n",
    "simulate_probably(n, k, b)"
   ]
  },
  {
   "cell_type": "markdown",
   "metadata": {},
   "source": [
    "### Raking Estimator"
   ]
  },
  {
   "cell_type": "code",
   "execution_count": 4,
   "metadata": {},
   "outputs": [],
   "source": [
    "def is_good_event(ix, iy, px, py):\n",
    "    return len(torch.unique(ix)) == len(px) and len(torch.unique(iy)) == len(py)\n",
    "\n",
    "def get_empirical_pmf(ix, iy):\n",
    "    # count pairs\n",
    "    pairs = list(zip(ix, iy))\n",
    "    ind, count = np.unique(pairs, axis=0, return_counts=True)\n",
    "    cmat = np.zeros(sizes)\n",
    "    cmat[ind[:, 0], ind[:, 1]] = count\n",
    "    return cmat / len(pairs)\n",
    "\n",
    "def raking_ratio(X, Y, marginals, num_iter):\n",
    "    pmat = count_freq(X, Y, (len(marginals[0]), len(marginals[1])))\n",
    "    if np.sum(np.sum(pmat, axis=1) == 0) + np.sum(np.sum(pmat, axis=0) == 0) > 0:\n",
    "        raise RuntimeError(\n",
    "            \"Missing mass in this sample. Try a larger sample size.\")\n",
    "        \n",
    "    est = [pmat]\n",
    "    for _ in range(num_iter):\n",
    "        pmat = (marginals[0] / np.sum(pmat, axis=1)).reshape(-1, 1) * pmat\n",
    "        pmat = pmat * (marginals[1] / np.sum(pmat, axis=0))\n",
    "        est.append(pmat)\n",
    "    return est"
   ]
  },
  {
   "cell_type": "code",
   "execution_count": 5,
   "metadata": {},
   "outputs": [],
   "source": [
    "def generate(pmat, size):\n",
    "    pairs = np.argwhere(pmat > -1)\n",
    "    indices = npr.choice(len(pairs), size=size, p=pmat.reshape(-1), replace=True)\n",
    "    return pairs[indices][:, 0], pairs[indices][:, 1]\n",
    "\n",
    "def count_freq(X, Y, sizes):\n",
    "    # count pairs\n",
    "    pairs = list(zip(X, Y))\n",
    "    ind, count = np.unique(pairs, axis=0, return_counts=True)\n",
    "    cmat = np.zeros(sizes)\n",
    "    cmat[ind[:, 0], ind[:, 1]] = count\n",
    "    return cmat / len(pairs), ind, count"
   ]
  },
  {
   "cell_type": "code",
   "execution_count": 6,
   "metadata": {},
   "outputs": [],
   "source": [
    "npr.seed(552022)  # 05/05/2022\n",
    "\n",
    "m = 20\n",
    "prob = npr.rand(m, m)\n",
    "prob /= np.sum(prob)\n",
    "px, py = np.sum(prob, axis=1), np.sum(prob, axis=0)"
   ]
  },
  {
   "cell_type": "code",
   "execution_count": 7,
   "metadata": {},
   "outputs": [],
   "source": [
    "marginals = (px, py)\n",
    "n = 512\n",
    "num_iter = 2\n",
    "X, Y = generate(prob, n)\n",
    "\n",
    "pmat, observed_bins, observed_counts = count_freq(X, Y, (len(marginals[0]), len(marginals[1])))\n",
    "# if np.sum(np.sum(pmat, axis=1) == 0) + np.sum(np.sum(pmat, axis=0) == 0) > 0:\n",
    "#      raise RuntimeError(\"Missing mass in this sample. Try a larger sample size.\")\n"
   ]
  },
  {
   "cell_type": "code",
   "execution_count": 8,
   "metadata": {},
   "outputs": [
    {
     "data": {
      "text/plain": [
       "(20, 20)"
      ]
     },
     "execution_count": 8,
     "metadata": {},
     "output_type": "execute_result"
    }
   ],
   "source": [
    "pmat.shape"
   ]
  },
  {
   "cell_type": "code",
   "execution_count": 10,
   "metadata": {},
   "outputs": [
    {
     "data": {
      "text/html": [
       "<div>\n",
       "<style scoped>\n",
       "    .dataframe tbody tr th:only-of-type {\n",
       "        vertical-align: middle;\n",
       "    }\n",
       "\n",
       "    .dataframe tbody tr th {\n",
       "        vertical-align: top;\n",
       "    }\n",
       "\n",
       "    .dataframe thead th {\n",
       "        text-align: right;\n",
       "    }\n",
       "</style>\n",
       "<table border=\"1\" class=\"dataframe\">\n",
       "  <thead>\n",
       "    <tr style=\"text-align: right;\">\n",
       "      <th></th>\n",
       "      <th>ind</th>\n",
       "      <th>bins</th>\n",
       "      <th>prob</th>\n",
       "      <th>counts</th>\n",
       "    </tr>\n",
       "  </thead>\n",
       "  <tbody>\n",
       "    <tr>\n",
       "      <th>0</th>\n",
       "      <td>(0, 0)</td>\n",
       "      <td>(7, 8)</td>\n",
       "      <td>0.005859</td>\n",
       "      <td>726</td>\n",
       "    </tr>\n",
       "    <tr>\n",
       "      <th>1</th>\n",
       "      <td>(0, 1)</td>\n",
       "      <td>(7, 17)</td>\n",
       "      <td>0.000000</td>\n",
       "      <td>660</td>\n",
       "    </tr>\n",
       "    <tr>\n",
       "      <th>2</th>\n",
       "      <td>(0, 2)</td>\n",
       "      <td>(7, 16)</td>\n",
       "      <td>0.003906</td>\n",
       "      <td>792</td>\n",
       "    </tr>\n",
       "    <tr>\n",
       "      <th>3</th>\n",
       "      <td>(0, 3)</td>\n",
       "      <td>(7, 10)</td>\n",
       "      <td>0.007812</td>\n",
       "      <td>1023</td>\n",
       "    </tr>\n",
       "    <tr>\n",
       "      <th>4</th>\n",
       "      <td>(0, 4)</td>\n",
       "      <td>(7, 4)</td>\n",
       "      <td>0.000000</td>\n",
       "      <td>759</td>\n",
       "    </tr>\n",
       "    <tr>\n",
       "      <th>...</th>\n",
       "      <td>...</td>\n",
       "      <td>...</td>\n",
       "      <td>...</td>\n",
       "      <td>...</td>\n",
       "    </tr>\n",
       "    <tr>\n",
       "      <th>262139</th>\n",
       "      <td>(511, 507)</td>\n",
       "      <td>(3, 12)</td>\n",
       "      <td>0.001953</td>\n",
       "      <td>783</td>\n",
       "    </tr>\n",
       "    <tr>\n",
       "      <th>262140</th>\n",
       "      <td>(511, 508)</td>\n",
       "      <td>(3, 18)</td>\n",
       "      <td>0.000000</td>\n",
       "      <td>567</td>\n",
       "    </tr>\n",
       "    <tr>\n",
       "      <th>262141</th>\n",
       "      <td>(511, 509)</td>\n",
       "      <td>(3, 4)</td>\n",
       "      <td>0.001953</td>\n",
       "      <td>621</td>\n",
       "    </tr>\n",
       "    <tr>\n",
       "      <th>262142</th>\n",
       "      <td>(511, 510)</td>\n",
       "      <td>(3, 10)</td>\n",
       "      <td>0.005859</td>\n",
       "      <td>837</td>\n",
       "    </tr>\n",
       "    <tr>\n",
       "      <th>262143</th>\n",
       "      <td>(511, 511)</td>\n",
       "      <td>(3, 11)</td>\n",
       "      <td>0.003906</td>\n",
       "      <td>972</td>\n",
       "    </tr>\n",
       "  </tbody>\n",
       "</table>\n",
       "<p>262144 rows × 4 columns</p>\n",
       "</div>"
      ],
      "text/plain": [
       "               ind     bins      prob  counts\n",
       "0           (0, 0)   (7, 8)  0.005859     726\n",
       "1           (0, 1)  (7, 17)  0.000000     660\n",
       "2           (0, 2)  (7, 16)  0.003906     792\n",
       "3           (0, 3)  (7, 10)  0.007812    1023\n",
       "4           (0, 4)   (7, 4)  0.000000     759\n",
       "...            ...      ...       ...     ...\n",
       "262139  (511, 507)  (3, 12)  0.001953     783\n",
       "262140  (511, 508)  (3, 18)  0.000000     567\n",
       "262141  (511, 509)   (3, 4)  0.001953     621\n",
       "262142  (511, 510)  (3, 10)  0.005859     837\n",
       "262143  (511, 511)  (3, 11)  0.003906     972\n",
       "\n",
       "[262144 rows x 4 columns]"
      ]
     },
     "execution_count": 10,
     "metadata": {},
     "output_type": "execute_result"
    }
   ],
   "source": [
    "df1 = pd.DataFrame(\n",
    "    {\n",
    "        'ind': list(itertools.product(np.arange(n), np.arange(n))),\n",
    "        'bins': list(itertools.product(X, Y)),\n",
    "    }\n",
    ")\n",
    "df2 = pd.DataFrame(\n",
    "    {\n",
    "        'bins': list(itertools.product(np.arange(m), np.arange(m))),\n",
    "        'prob': pmat.reshape(-1)\n",
    "    }\n",
    ")\n",
    "bin_names, bin_counts = np.unique(df1['bins'], return_counts=True)\n",
    "# df3 = pd.DataFrame({'bins': [tuple(x) for x in observed_bins], \"counts\": observed_counts})\n",
    "# df = df1.merge(df2.merge(df3, on=\"bins\", how=\"left\").fillna(0.0), on=\"bins\", how=\"left\")\n",
    "df = df1.merge(df2, on=\"bins\", how=\"left\").merge(pd.DataFrame({'bins': bin_names, 'counts': bin_counts}), on=\"bins\", how=\"left\")\n",
    "weight = df['prob'].to_numpy() / np.maximum(1.0, df['counts'].to_numpy())\n",
    "df"
   ]
  },
  {
   "cell_type": "code",
   "execution_count": 12,
   "metadata": {},
   "outputs": [
    {
     "data": {
      "text/plain": [
       "1.0"
      ]
     },
     "execution_count": 12,
     "metadata": {},
     "output_type": "execute_result"
    }
   ],
   "source": [
    "weight.sum()"
   ]
  },
  {
   "cell_type": "code",
   "execution_count": 13,
   "metadata": {},
   "outputs": [],
   "source": [
    "idx = np.random.choice(np.arange(n ** 2), size=n, replace=True, p=weight)"
   ]
  },
  {
   "cell_type": "code",
   "execution_count": 16,
   "metadata": {},
   "outputs": [],
   "source": [
    "new_pairs = df['ind'].iloc[idx]"
   ]
  },
  {
   "cell_type": "code",
   "execution_count": 18,
   "metadata": {},
   "outputs": [],
   "source": [
    "x_new, y_new = [X[i] for i, j in new_pairs], [Y[j] for i, j in new_pairs]"
   ]
  },
  {
   "cell_type": "code",
   "execution_count": 20,
   "metadata": {},
   "outputs": [
    {
     "data": {
      "text/plain": [
       "512"
      ]
     },
     "execution_count": 20,
     "metadata": {},
     "output_type": "execute_result"
    }
   ],
   "source": [
    "len(x_new)"
   ]
  },
  {
   "cell_type": "code",
   "execution_count": null,
   "metadata": {},
   "outputs": [],
   "source": [
    "[tuple(x) for x in bins]"
   ]
  },
  {
   "cell_type": "code",
   "execution_count": null,
   "metadata": {},
   "outputs": [],
   "source": [
    "len(counts)"
   ]
  },
  {
   "cell_type": "code",
   "execution_count": null,
   "metadata": {},
   "outputs": [],
   "source": []
  }
 ],
 "metadata": {
  "kernelspec": {
   "display_name": "dl",
   "language": "python",
   "name": "python3"
  },
  "language_info": {
   "codemirror_mode": {
    "name": "ipython",
    "version": 3
   },
   "file_extension": ".py",
   "mimetype": "text/x-python",
   "name": "python",
   "nbconvert_exporter": "python",
   "pygments_lexer": "ipython3",
   "version": "3.11.5"
  }
 },
 "nbformat": 4,
 "nbformat_minor": 2
}
