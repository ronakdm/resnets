{
 "cells": [
  {
   "cell_type": "code",
   "execution_count": 1,
   "metadata": {},
   "outputs": [],
   "source": [
    "import torch\n",
    "import pandas as pd\n",
    "import numpy as np\n",
    "import numpy.random as npr\n",
    "import itertools\n",
    "import os\n",
    "# from torchvision.datasets import CIFAR10\n",
    "# from torchvision.transforms import Compose, RandomCrop, RandomHorizontalFlip, CenterCrop"
   ]
  },
  {
   "cell_type": "markdown",
   "metadata": {},
   "source": [
    "### ImageNet-Captions Dataset"
   ]
  },
  {
   "cell_type": "code",
   "execution_count": 2,
   "metadata": {},
   "outputs": [],
   "source": [
    "data_dir = \"/mnt/ssd/ronak/datasets/imagenet_captions_50k\"\n",
    "\n",
    "\n",
    "img = torch.load(os.path.join(data_dir, \"vit_b32_laion2b_image_features.pt\"))\n",
    "txt = torch.load(os.path.join(data_dir, \"vit_b32_laion2b_text_features.pt\"))\n",
    "idx = torch.load(os.path.join(data_dir, \"vit_b32_laion2b_idx.pt\"))"
   ]
  },
  {
   "cell_type": "code",
   "execution_count": 7,
   "metadata": {},
   "outputs": [],
   "source": [
    "n = len(img)\n",
    "np.random.seed(123)\n",
    "test_size = int(0.1 * n)\n",
    "\n",
    "train_idx = np.random.choice(n, size=(n - test_size), replace=False)\n",
    "test_idx = np.delete(np.arange(n), train_idx)\n",
    "assert len(np.intersect1d(train_idx, test_idx)) == 0\n",
    "assert len(np.union1d(train_idx, test_idx)) == n"
   ]
  },
  {
   "cell_type": "code",
   "execution_count": 8,
   "metadata": {},
   "outputs": [
    {
     "name": "stdout",
     "output_type": "stream",
     "text": [
      "(43422, 512)\n",
      "(43422, 512)\n",
      "(4824, 512)\n",
      "(4824, 512)\n"
     ]
    }
   ],
   "source": [
    "train_idx = torch.from_numpy(train_idx)\n",
    "test_idx = torch.from_numpy(test_idx)\n",
    "\n",
    "x_train, x_test = img[train_idx], img[test_idx]\n",
    "y_train, y_test = txt[train_idx], txt[test_idx]\n",
    "\n",
    "print(x_train.shape)\n",
    "print(y_train.shape)\n",
    "print(x_test.shape)\n",
    "print(y_test.shape)"
   ]
  },
  {
   "cell_type": "code",
   "execution_count": null,
   "metadata": {},
   "outputs": [],
   "source": []
  }
 ],
 "metadata": {
  "kernelspec": {
   "display_name": "dl",
   "language": "python",
   "name": "python3"
  },
  "language_info": {
   "codemirror_mode": {
    "name": "ipython",
    "version": 3
   },
   "file_extension": ".py",
   "mimetype": "text/x-python",
   "name": "python",
   "nbconvert_exporter": "python",
   "pygments_lexer": "ipython3",
   "version": "3.11.5"
  }
 },
 "nbformat": 4,
 "nbformat_minor": 2
}
