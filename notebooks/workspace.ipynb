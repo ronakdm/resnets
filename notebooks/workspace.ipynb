{
 "cells": [
  {
   "cell_type": "code",
   "execution_count": 7,
   "metadata": {},
   "outputs": [],
   "source": [
    "import torch\n",
    "import pandas as pd\n",
    "import numpy as np\n",
    "import numpy.random as npr\n",
    "import itertools\n",
    "# from torchvision.datasets import CIFAR10\n",
    "# from torchvision.transforms import Compose, RandomCrop, RandomHorizontalFlip, CenterCrop"
   ]
  },
  {
   "cell_type": "markdown",
   "metadata": {},
   "source": [
    "### Number of Quantization Categories"
   ]
  },
  {
   "cell_type": "code",
   "execution_count": 8,
   "metadata": {},
   "outputs": [],
   "source": [
    "def simulate_probably(n, k, b, s=1000):\n",
    "    np.random.seed(123)\n",
    "    count = 0\n",
    "    for _ in range(s):\n",
    "        objects = np.random.choice(k, size=(n,))\n",
    "        batch = np.random.choice(objects, size=(b,), replace=False)\n",
    "        count += int(len(np.unique(batch)) == k)\n",
    "    return count / s"
   ]
  },
  {
   "cell_type": "code",
   "execution_count": 9,
   "metadata": {},
   "outputs": [
    {
     "data": {
      "text/plain": [
       "0.995"
      ]
     },
     "execution_count": 9,
     "metadata": {},
     "output_type": "execute_result"
    }
   ],
   "source": [
    "n = 50000\n",
    "b = 512\n",
    "k = 60\n",
    "\n",
    "simulate_probably(n, k, b)"
   ]
  },
  {
   "cell_type": "markdown",
   "metadata": {},
   "source": [
    "### Raking Estimator"
   ]
  },
  {
   "cell_type": "code",
   "execution_count": 10,
   "metadata": {},
   "outputs": [],
   "source": [
    "def is_good_event(ix, iy, px, py):\n",
    "    return len(torch.unique(ix)) == len(px) and len(torch.unique(iy)) == len(py)\n",
    "\n",
    "def count_freq(X, Y, sizes):\n",
    "    # count pairs\n",
    "    pairs = list(zip(X, Y))\n",
    "    ind, count = np.unique(pairs, axis=0, return_counts=True)\n",
    "    cmat = np.zeros(sizes)\n",
    "    cmat[ind[:, 0], ind[:, 1]] = count\n",
    "    return cmat / len(pairs)\n",
    "\n",
    "def raking_ratio(X, Y, marginals, num_iter):\n",
    "    pmat = count_freq(X, Y, (len(marginals[0]), len(marginals[1])))\n",
    "    if np.sum(np.sum(pmat, axis=1) == 0) + np.sum(np.sum(pmat, axis=0) == 0) > 0:\n",
    "        raise RuntimeError(\n",
    "            \"Missing mass in this sample. Try a larger sample size.\")\n",
    "        \n",
    "    est = [pmat]\n",
    "    for _ in range(num_iter):\n",
    "        pmat = (marginals[0] / np.sum(pmat, axis=1)).reshape(-1, 1) * pmat\n",
    "        pmat = pmat * (marginals[1] / np.sum(pmat, axis=0))\n",
    "        est.append(pmat)\n",
    "    return est"
   ]
  },
  {
   "cell_type": "code",
   "execution_count": 11,
   "metadata": {},
   "outputs": [],
   "source": [
    "def generate(pmat, size):\n",
    "    pairs = np.argwhere(pmat > -1)\n",
    "    indices = npr.choice(len(pairs), size=size, p=pmat.reshape(-1), replace=True)\n",
    "    return pairs[indices][:, 0], pairs[indices][:, 1]\n"
   ]
  },
  {
   "cell_type": "code",
   "execution_count": 12,
   "metadata": {},
   "outputs": [],
   "source": [
    "npr.seed(552022)  # 05/05/2022\n",
    "\n",
    "m = 20\n",
    "prob = npr.rand(m, m)\n",
    "prob /= np.sum(prob)\n",
    "px, py = np.sum(prob, axis=1), np.sum(prob, axis=0)"
   ]
  },
  {
   "cell_type": "code",
   "execution_count": 13,
   "metadata": {},
   "outputs": [],
   "source": [
    "marginals = (px, py)\n",
    "n = 512\n",
    "num_iter = 2\n",
    "X, Y = generate(prob, n)\n",
    "\n",
    "pmat = count_freq(X, Y, (len(marginals[0]), len(marginals[1])))\n",
    "# if np.sum(np.sum(pmat, axis=1) == 0) + np.sum(np.sum(pmat, axis=0) == 0) > 0:\n",
    "#      raise RuntimeError(\"Missing mass in this sample. Try a larger sample size.\")\n"
   ]
  },
  {
   "cell_type": "code",
   "execution_count": 14,
   "metadata": {},
   "outputs": [
    {
     "data": {
      "text/plain": [
       "(20, 20)"
      ]
     },
     "execution_count": 14,
     "metadata": {},
     "output_type": "execute_result"
    }
   ],
   "source": [
    "pmat.shape"
   ]
  },
  {
   "cell_type": "markdown",
   "metadata": {},
   "source": [
    "### n"
   ]
  },
  {
   "cell_type": "code",
   "execution_count": 17,
   "metadata": {},
   "outputs": [
    {
     "data": {
      "text/html": [
       "<div>\n",
       "<style scoped>\n",
       "    .dataframe tbody tr th:only-of-type {\n",
       "        vertical-align: middle;\n",
       "    }\n",
       "\n",
       "    .dataframe tbody tr th {\n",
       "        vertical-align: top;\n",
       "    }\n",
       "\n",
       "    .dataframe thead th {\n",
       "        text-align: right;\n",
       "    }\n",
       "</style>\n",
       "<table border=\"1\" class=\"dataframe\">\n",
       "  <thead>\n",
       "    <tr style=\"text-align: right;\">\n",
       "      <th></th>\n",
       "      <th>ind</th>\n",
       "      <th>bins</th>\n",
       "    </tr>\n",
       "  </thead>\n",
       "  <tbody>\n",
       "    <tr>\n",
       "      <th>0</th>\n",
       "      <td>0</td>\n",
       "      <td>(7, 8)</td>\n",
       "    </tr>\n",
       "    <tr>\n",
       "      <th>1</th>\n",
       "      <td>1</td>\n",
       "      <td>(16, 17)</td>\n",
       "    </tr>\n",
       "    <tr>\n",
       "      <th>2</th>\n",
       "      <td>2</td>\n",
       "      <td>(19, 16)</td>\n",
       "    </tr>\n",
       "    <tr>\n",
       "      <th>3</th>\n",
       "      <td>3</td>\n",
       "      <td>(12, 10)</td>\n",
       "    </tr>\n",
       "    <tr>\n",
       "      <th>4</th>\n",
       "      <td>4</td>\n",
       "      <td>(18, 4)</td>\n",
       "    </tr>\n",
       "    <tr>\n",
       "      <th>...</th>\n",
       "      <td>...</td>\n",
       "      <td>...</td>\n",
       "    </tr>\n",
       "    <tr>\n",
       "      <th>507</th>\n",
       "      <td>507</td>\n",
       "      <td>(8, 12)</td>\n",
       "    </tr>\n",
       "    <tr>\n",
       "      <th>508</th>\n",
       "      <td>508</td>\n",
       "      <td>(6, 18)</td>\n",
       "    </tr>\n",
       "    <tr>\n",
       "      <th>509</th>\n",
       "      <td>509</td>\n",
       "      <td>(12, 4)</td>\n",
       "    </tr>\n",
       "    <tr>\n",
       "      <th>510</th>\n",
       "      <td>510</td>\n",
       "      <td>(18, 10)</td>\n",
       "    </tr>\n",
       "    <tr>\n",
       "      <th>511</th>\n",
       "      <td>511</td>\n",
       "      <td>(3, 11)</td>\n",
       "    </tr>\n",
       "  </tbody>\n",
       "</table>\n",
       "<p>512 rows × 2 columns</p>\n",
       "</div>"
      ],
      "text/plain": [
       "     ind      bins\n",
       "0      0    (7, 8)\n",
       "1      1  (16, 17)\n",
       "2      2  (19, 16)\n",
       "3      3  (12, 10)\n",
       "4      4   (18, 4)\n",
       "..   ...       ...\n",
       "507  507   (8, 12)\n",
       "508  508   (6, 18)\n",
       "509  509   (12, 4)\n",
       "510  510  (18, 10)\n",
       "511  511   (3, 11)\n",
       "\n",
       "[512 rows x 2 columns]"
      ]
     },
     "execution_count": 17,
     "metadata": {},
     "output_type": "execute_result"
    }
   ],
   "source": [
    "df1 = pd.DataFrame({\n",
    "    'ind': np.arange(n),\n",
    "    'bins': [(x, y) for x, y in zip(X, Y)]\n",
    "})\n",
    "df1"
   ]
  },
  {
   "cell_type": "code",
   "execution_count": 26,
   "metadata": {},
   "outputs": [
    {
     "data": {
      "text/html": [
       "<div>\n",
       "<style scoped>\n",
       "    .dataframe tbody tr th:only-of-type {\n",
       "        vertical-align: middle;\n",
       "    }\n",
       "\n",
       "    .dataframe tbody tr th {\n",
       "        vertical-align: top;\n",
       "    }\n",
       "\n",
       "    .dataframe thead th {\n",
       "        text-align: right;\n",
       "    }\n",
       "</style>\n",
       "<table border=\"1\" class=\"dataframe\">\n",
       "  <thead>\n",
       "    <tr style=\"text-align: right;\">\n",
       "      <th></th>\n",
       "      <th>bins</th>\n",
       "      <th>prob</th>\n",
       "    </tr>\n",
       "  </thead>\n",
       "  <tbody>\n",
       "    <tr>\n",
       "      <th>0</th>\n",
       "      <td>(0, 0)</td>\n",
       "      <td>0.000000</td>\n",
       "    </tr>\n",
       "    <tr>\n",
       "      <th>1</th>\n",
       "      <td>(0, 1)</td>\n",
       "      <td>0.000000</td>\n",
       "    </tr>\n",
       "    <tr>\n",
       "      <th>2</th>\n",
       "      <td>(0, 2)</td>\n",
       "      <td>0.000000</td>\n",
       "    </tr>\n",
       "    <tr>\n",
       "      <th>3</th>\n",
       "      <td>(0, 3)</td>\n",
       "      <td>0.000000</td>\n",
       "    </tr>\n",
       "    <tr>\n",
       "      <th>4</th>\n",
       "      <td>(0, 4)</td>\n",
       "      <td>0.001953</td>\n",
       "    </tr>\n",
       "    <tr>\n",
       "      <th>...</th>\n",
       "      <td>...</td>\n",
       "      <td>...</td>\n",
       "    </tr>\n",
       "    <tr>\n",
       "      <th>395</th>\n",
       "      <td>(19, 15)</td>\n",
       "      <td>0.003906</td>\n",
       "    </tr>\n",
       "    <tr>\n",
       "      <th>396</th>\n",
       "      <td>(19, 16)</td>\n",
       "      <td>0.003906</td>\n",
       "    </tr>\n",
       "    <tr>\n",
       "      <th>397</th>\n",
       "      <td>(19, 17)</td>\n",
       "      <td>0.000000</td>\n",
       "    </tr>\n",
       "    <tr>\n",
       "      <th>398</th>\n",
       "      <td>(19, 18)</td>\n",
       "      <td>0.001953</td>\n",
       "    </tr>\n",
       "    <tr>\n",
       "      <th>399</th>\n",
       "      <td>(19, 19)</td>\n",
       "      <td>0.000000</td>\n",
       "    </tr>\n",
       "  </tbody>\n",
       "</table>\n",
       "<p>400 rows × 2 columns</p>\n",
       "</div>"
      ],
      "text/plain": [
       "         bins      prob\n",
       "0      (0, 0)  0.000000\n",
       "1      (0, 1)  0.000000\n",
       "2      (0, 2)  0.000000\n",
       "3      (0, 3)  0.000000\n",
       "4      (0, 4)  0.001953\n",
       "..        ...       ...\n",
       "395  (19, 15)  0.003906\n",
       "396  (19, 16)  0.003906\n",
       "397  (19, 17)  0.000000\n",
       "398  (19, 18)  0.001953\n",
       "399  (19, 19)  0.000000\n",
       "\n",
       "[400 rows x 2 columns]"
      ]
     },
     "execution_count": 26,
     "metadata": {},
     "output_type": "execute_result"
    }
   ],
   "source": [
    "df2 = pd.DataFrame(\n",
    "    {\n",
    "        'bins': list(itertools.product(np.arange(m), np.arange(m))),\n",
    "        'prob': pmat.reshape(-1)\n",
    "    }\n",
    ")\n",
    "df2"
   ]
  },
  {
   "cell_type": "code",
   "execution_count": 29,
   "metadata": {},
   "outputs": [],
   "source": [
    "bin_names, bin_counts = np.unique(df1['bins'], return_counts=True)"
   ]
  },
  {
   "cell_type": "code",
   "execution_count": 30,
   "metadata": {},
   "outputs": [],
   "source": [
    "df = df1.merge(df2, on=\"bins\", how=\"left\").merge(pd.DataFrame({'bins': bin_names, 'counts': bin_counts}), on=\"bins\", how=\"left\")"
   ]
  },
  {
   "cell_type": "code",
   "execution_count": 31,
   "metadata": {},
   "outputs": [],
   "source": [
    "weight = df['prob'].to_numpy() / np.maximum(1.0, df['counts'].to_numpy())"
   ]
  },
  {
   "cell_type": "code",
   "execution_count": 33,
   "metadata": {},
   "outputs": [
    {
     "data": {
      "text/plain": [
       "1.0"
      ]
     },
     "execution_count": 33,
     "metadata": {},
     "output_type": "execute_result"
    }
   ],
   "source": [
    "weight.sum()"
   ]
  },
  {
   "cell_type": "markdown",
   "metadata": {},
   "source": [
    "### n^2"
   ]
  },
  {
   "cell_type": "code",
   "execution_count": 11,
   "metadata": {},
   "outputs": [
    {
     "data": {
      "text/html": [
       "<div>\n",
       "<style scoped>\n",
       "    .dataframe tbody tr th:only-of-type {\n",
       "        vertical-align: middle;\n",
       "    }\n",
       "\n",
       "    .dataframe tbody tr th {\n",
       "        vertical-align: top;\n",
       "    }\n",
       "\n",
       "    .dataframe thead th {\n",
       "        text-align: right;\n",
       "    }\n",
       "</style>\n",
       "<table border=\"1\" class=\"dataframe\">\n",
       "  <thead>\n",
       "    <tr style=\"text-align: right;\">\n",
       "      <th></th>\n",
       "      <th>ind</th>\n",
       "      <th>bins</th>\n",
       "      <th>prob</th>\n",
       "      <th>counts</th>\n",
       "    </tr>\n",
       "  </thead>\n",
       "  <tbody>\n",
       "    <tr>\n",
       "      <th>0</th>\n",
       "      <td>(0, 0)</td>\n",
       "      <td>(7, 8)</td>\n",
       "      <td>0.005859</td>\n",
       "      <td>726</td>\n",
       "    </tr>\n",
       "    <tr>\n",
       "      <th>1</th>\n",
       "      <td>(0, 1)</td>\n",
       "      <td>(7, 17)</td>\n",
       "      <td>0.000000</td>\n",
       "      <td>660</td>\n",
       "    </tr>\n",
       "    <tr>\n",
       "      <th>2</th>\n",
       "      <td>(0, 2)</td>\n",
       "      <td>(7, 16)</td>\n",
       "      <td>0.003906</td>\n",
       "      <td>792</td>\n",
       "    </tr>\n",
       "    <tr>\n",
       "      <th>3</th>\n",
       "      <td>(0, 3)</td>\n",
       "      <td>(7, 10)</td>\n",
       "      <td>0.007812</td>\n",
       "      <td>1023</td>\n",
       "    </tr>\n",
       "    <tr>\n",
       "      <th>4</th>\n",
       "      <td>(0, 4)</td>\n",
       "      <td>(7, 4)</td>\n",
       "      <td>0.000000</td>\n",
       "      <td>759</td>\n",
       "    </tr>\n",
       "    <tr>\n",
       "      <th>...</th>\n",
       "      <td>...</td>\n",
       "      <td>...</td>\n",
       "      <td>...</td>\n",
       "      <td>...</td>\n",
       "    </tr>\n",
       "    <tr>\n",
       "      <th>262139</th>\n",
       "      <td>(511, 507)</td>\n",
       "      <td>(3, 12)</td>\n",
       "      <td>0.001953</td>\n",
       "      <td>783</td>\n",
       "    </tr>\n",
       "    <tr>\n",
       "      <th>262140</th>\n",
       "      <td>(511, 508)</td>\n",
       "      <td>(3, 18)</td>\n",
       "      <td>0.000000</td>\n",
       "      <td>567</td>\n",
       "    </tr>\n",
       "    <tr>\n",
       "      <th>262141</th>\n",
       "      <td>(511, 509)</td>\n",
       "      <td>(3, 4)</td>\n",
       "      <td>0.001953</td>\n",
       "      <td>621</td>\n",
       "    </tr>\n",
       "    <tr>\n",
       "      <th>262142</th>\n",
       "      <td>(511, 510)</td>\n",
       "      <td>(3, 10)</td>\n",
       "      <td>0.005859</td>\n",
       "      <td>837</td>\n",
       "    </tr>\n",
       "    <tr>\n",
       "      <th>262143</th>\n",
       "      <td>(511, 511)</td>\n",
       "      <td>(3, 11)</td>\n",
       "      <td>0.003906</td>\n",
       "      <td>972</td>\n",
       "    </tr>\n",
       "  </tbody>\n",
       "</table>\n",
       "<p>262144 rows × 4 columns</p>\n",
       "</div>"
      ],
      "text/plain": [
       "               ind     bins      prob  counts\n",
       "0           (0, 0)   (7, 8)  0.005859     726\n",
       "1           (0, 1)  (7, 17)  0.000000     660\n",
       "2           (0, 2)  (7, 16)  0.003906     792\n",
       "3           (0, 3)  (7, 10)  0.007812    1023\n",
       "4           (0, 4)   (7, 4)  0.000000     759\n",
       "...            ...      ...       ...     ...\n",
       "262139  (511, 507)  (3, 12)  0.001953     783\n",
       "262140  (511, 508)  (3, 18)  0.000000     567\n",
       "262141  (511, 509)   (3, 4)  0.001953     621\n",
       "262142  (511, 510)  (3, 10)  0.005859     837\n",
       "262143  (511, 511)  (3, 11)  0.003906     972\n",
       "\n",
       "[262144 rows x 4 columns]"
      ]
     },
     "execution_count": 11,
     "metadata": {},
     "output_type": "execute_result"
    }
   ],
   "source": [
    "df1 = pd.DataFrame(\n",
    "    {\n",
    "        'ind': list(itertools.product(np.arange(n), np.arange(n))),\n",
    "        'bins': list(itertools.product(X, Y)),\n",
    "    }\n",
    ")\n",
    "df2 = pd.DataFrame(\n",
    "    {\n",
    "        'bins': list(itertools.product(np.arange(m), np.arange(m))),\n",
    "        'prob': pmat.reshape(-1)\n",
    "    }\n",
    ")\n",
    "bin_names, bin_counts = np.unique(df1['bins'], return_counts=True)\n",
    "# df3 = pd.DataFrame({'bins': [tuple(x) for x in observed_bins], \"counts\": observed_counts})\n",
    "# df = df1.merge(df2.merge(df3, on=\"bins\", how=\"left\").fillna(0.0), on=\"bins\", how=\"left\")\n",
    "df = df1.merge(df2, on=\"bins\", how=\"left\").merge(pd.DataFrame({'bins': bin_names, 'counts': bin_counts}), on=\"bins\", how=\"left\")\n",
    "weight = df['prob'].to_numpy() / np.maximum(1.0, df['counts'].to_numpy())\n",
    "df"
   ]
  },
  {
   "cell_type": "code",
   "execution_count": 12,
   "metadata": {},
   "outputs": [
    {
     "data": {
      "text/plain": [
       "1.0"
      ]
     },
     "execution_count": 12,
     "metadata": {},
     "output_type": "execute_result"
    }
   ],
   "source": [
    "weight.sum()"
   ]
  },
  {
   "cell_type": "code",
   "execution_count": 13,
   "metadata": {},
   "outputs": [],
   "source": [
    "idx = np.random.choice(np.arange(n ** 2), size=n, replace=True, p=weight)"
   ]
  },
  {
   "cell_type": "code",
   "execution_count": 14,
   "metadata": {},
   "outputs": [],
   "source": [
    "new_pairs = df['ind'].iloc[idx]"
   ]
  },
  {
   "cell_type": "code",
   "execution_count": 15,
   "metadata": {},
   "outputs": [],
   "source": [
    "bout = np.array(list(df['bins'].iloc[idx]))\n",
    "cx, cy = bout[:, 0], bout[:, 1]"
   ]
  },
  {
   "cell_type": "code",
   "execution_count": 16,
   "metadata": {},
   "outputs": [
    {
     "data": {
      "text/plain": [
       "array([ 2,  4, 16,  4,  5,  4,  2,  8, 12,  2, 19,  8,  7, 11, 15, 10,  2,\n",
       "       12,  9, 12,  3, 18, 13,  4, 16, 12,  9, 16,  3, 13, 17, 11,  1, 18,\n",
       "        6,  5,  0,  6,  8,  8,  0,  9, 11, 15, 11, 15, 12,  8,  5,  3,  6,\n",
       "        4, 14, 12,  7, 11, 14, 12, 10,  7,  2,  6,  4,  5, 15, 13,  3,  2,\n",
       "       11, 10, 16, 16,  9,  5, 11,  9,  1, 15, 12, 18, 11, 12,  7,  8, 14,\n",
       "        5, 17, 16, 15,  0, 17,  0, 11,  1,  0, 17, 15, 17,  8,  6, 11,  6,\n",
       "       11, 19, 15,  6,  0, 14,  8,  6, 18, 12, 15,  9, 19, 18,  6,  7,  7,\n",
       "       10, 12,  3,  5, 19, 19,  9, 12,  6, 13,  1,  7,  7,  4,  9, 10, 15,\n",
       "       16, 11, 16,  2, 16, 17, 11, 14,  0,  7,  6, 14,  7, 11,  2, 17,  2,\n",
       "        0,  7,  4,  5, 15, 18,  6,  8,  4,  5,  3, 15, 14,  4, 15, 19, 11,\n",
       "        7,  4, 10, 18, 16, 17, 18,  9, 16, 18,  4, 12, 13,  7,  3, 11, 12,\n",
       "        0, 15, 15,  9, 17,  6, 14, 12,  4,  2, 15, 11, 15,  6, 19,  4, 19,\n",
       "        8, 16,  0,  2, 10, 17,  7, 18, 13, 13, 13, 15, 12, 11, 17, 19, 10,\n",
       "        3, 11, 19,  9,  9,  8,  7,  6, 11, 12,  7,  2,  8,  9, 16, 19,  7,\n",
       "       12, 13, 16,  6,  4,  3, 12,  3, 14,  1, 18,  9,  9,  9,  7,  3, 13,\n",
       "       19,  6,  1, 10, 13, 17, 11,  1, 18, 10, 17,  6, 19,  3,  2,  9, 10,\n",
       "       16, 16,  3, 14,  7,  3,  6, 18,  8,  4,  4, 13,  4,  9,  3,  1,  7,\n",
       "       14, 10, 18,  3, 17, 18,  6,  8, 14,  4,  4,  8,  7,  6,  2, 11, 18,\n",
       "        4, 15, 11, 12, 18, 16,  7, 11,  7,  5, 12,  7, 19,  6,  0, 12, 15,\n",
       "        7, 15, 15,  9, 11, 14, 17, 12, 14, 12,  4, 16, 11,  7, 14,  7,  2,\n",
       "       17,  1,  8, 14,  4,  2, 12,  3,  3, 18, 18, 10,  7, 13, 12, 10, 13,\n",
       "        7,  8, 18, 14, 16, 15, 12,  8,  4,  7,  4, 12, 15, 12,  3, 18, 16,\n",
       "        0, 15, 14, 18,  5, 17, 10,  4, 15, 15, 17,  3, 12,  3, 13, 16, 16,\n",
       "       18, 11,  2,  8, 15,  1, 12, 16, 12,  3, 15, 18, 15, 18, 12,  5,  2,\n",
       "       19, 18,  0,  8,  5, 16,  1,  5,  8,  6,  5,  4,  4, 15,  5, 12,  2,\n",
       "        1,  4, 18,  1, 17, 15,  7, 17,  2, 16,  9,  3,  1, 18, 12,  3,  9,\n",
       "        2,  4,  7, 18, 10,  6,  3, 12,  4,  2,  6,  0,  7, 17, 18,  2, 11,\n",
       "        1,  6, 12, 18,  9, 15, 12, 16, 15,  6, 15, 19, 17,  7,  9,  6, 15,\n",
       "        3, 18, 15, 10,  4,  3, 14,  0,  8, 14, 12, 15, 18,  4, 14,  2, 14,\n",
       "        4, 12,  2, 18, 19,  1,  7,  4,  8,  7, 18, 11, 15,  8, 10, 17, 10,\n",
       "       19, 18])"
      ]
     },
     "execution_count": 16,
     "metadata": {},
     "output_type": "execute_result"
    }
   ],
   "source": [
    "cx"
   ]
  },
  {
   "cell_type": "code",
   "execution_count": 18,
   "metadata": {},
   "outputs": [],
   "source": [
    "# x_new, y_new = [X[i] for i, j in new_pairs], [Y[j] for i, j in new_pairs]"
   ]
  },
  {
   "cell_type": "code",
   "execution_count": 17,
   "metadata": {},
   "outputs": [],
   "source": [
    "pmat2, observed_bins, observed_counts = count_freq(cx, cy, (len(marginals[0]), len(marginals[1])))"
   ]
  },
  {
   "cell_type": "code",
   "execution_count": 18,
   "metadata": {},
   "outputs": [
    {
     "data": {
      "text/plain": [
       "(20, 20)"
      ]
     },
     "execution_count": 18,
     "metadata": {},
     "output_type": "execute_result"
    }
   ],
   "source": [
    "pmat.shape"
   ]
  },
  {
   "cell_type": "code",
   "execution_count": 19,
   "metadata": {},
   "outputs": [
    {
     "data": {
      "text/plain": [
       "(20, 20)"
      ]
     },
     "execution_count": 19,
     "metadata": {},
     "output_type": "execute_result"
    }
   ],
   "source": [
    "pmat2.shape"
   ]
  },
  {
   "cell_type": "code",
   "execution_count": 20,
   "metadata": {},
   "outputs": [],
   "source": [
    "import matplotlib.pyplot as plt\n",
    "import numpy as np\n",
    "import matplotlib as mpl"
   ]
  },
  {
   "cell_type": "code",
   "execution_count": 25,
   "metadata": {},
   "outputs": [
    {
     "data": {
      "image/png": "[encoded data removed]",
      "text/plain": [
       "<Figure size 640x480 with 1 Axes>"
      ]
     },
     "metadata": {},
     "output_type": "display_data"
    }
   ],
   "source": [
    "fig, ax = plt.subplots()\n",
    "im = ax.imshow(pmat)\n",
    "ax.set_xticks(np.arange(pmat.shape[0]))\n",
    "ax.set_yticks(np.arange(pmat.shape[1]))\n",
    "fig.tight_layout()\n",
    "ax.set_title(\"True\")\n",
    "plt.show()"
   ]
  },
  {
   "cell_type": "code",
   "execution_count": 27,
   "metadata": {},
   "outputs": [
    {
     "data": {
      "image/png": "[encoded data removed]",
      "text/plain": [
       "<Figure size 640x480 with 1 Axes>"
      ]
     },
     "metadata": {},
     "output_type": "display_data"
    }
   ],
   "source": [
    "fig, ax = plt.subplots()\n",
    "im = ax.imshow(pmat2)\n",
    "ax.set_xticks(np.arange(pmat.shape[0]))\n",
    "ax.set_yticks(np.arange(pmat.shape[1]))\n",
    "ax.set_title(\"Resampled\")\n",
    "fig.tight_layout()\n",
    "plt.show()"
   ]
  },
  {
   "cell_type": "code",
   "execution_count": null,
   "metadata": {},
   "outputs": [],
   "source": []
  }
 ],
 "metadata": {
  "kernelspec": {
   "display_name": "dl",
   "language": "python",
   "name": "python3"
  },
  "language_info": {
   "codemirror_mode": {
    "name": "ipython",
    "version": 3
   },
   "file_extension": ".py",
   "mimetype": "text/x-python",
   "name": "python",
   "nbconvert_exporter": "python",
   "pygments_lexer": "ipython3",
   "version": "3.11.5"
  }
 },
 "nbformat": 4,
 "nbformat_minor": 2
}
