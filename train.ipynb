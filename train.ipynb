{
 "cells": [
  {
   "cell_type": "code",
   "execution_count": 1,
   "metadata": {},
   "outputs": [],
   "source": [
    "import torch\n",
    "import numpy as np\n",
    "from torch.utils.data import DataLoader, RandomSampler\n",
    "\n",
    "from data import load_cifar10, ImageClassificationDataset\n",
    "from models import MyrtleNet"
   ]
  },
  {
   "cell_type": "code",
   "execution_count": null,
   "metadata": {},
   "outputs": [],
   "source": [
    "# TODO: Logging.\n",
    "# TODO: Learning rate schedule."
   ]
  },
  {
   "cell_type": "code",
   "execution_count": 2,
   "metadata": {},
   "outputs": [],
   "source": [
    "epochs = 20\n",
    "batch_size = 512\n",
    "lr = 3e-4\n",
    "device = \"cuda:0\""
   ]
  },
  {
   "cell_type": "code",
   "execution_count": 3,
   "metadata": {},
   "outputs": [
    {
     "name": "stdout",
     "output_type": "stream",
     "text": [
      "Files already downloaded and verified\n",
      "Files already downloaded and verified\n"
     ]
    }
   ],
   "source": [
    "x_train, y_train, x_test, y_test = load_cifar10()"
   ]
  },
  {
   "cell_type": "code",
   "execution_count": 4,
   "metadata": {},
   "outputs": [
    {
     "name": "stdout",
     "output_type": "stream",
     "text": [
      "50,000 training samples.\n",
      "10,000 test samples.\n"
     ]
    }
   ],
   "source": [
    "# Create dataloaders.\n",
    "train_dataset = ImageClassificationDataset(x_train, y_train)\n",
    "train_dataloader = DataLoader(\n",
    "    train_dataset, sampler=RandomSampler(train_dataset), batch_size=batch_size\n",
    ")\n",
    "print(\"{:>5,} training samples.\".format(len(train_dataset)))\n",
    "test_dataset = ImageClassificationDataset(x_test, y_test)\n",
    "test_dataloader = DataLoader(\n",
    "    test_dataset, sampler=RandomSampler(test_dataset), batch_size=batch_size\n",
    ")\n",
    "print(\"{:>5,} test samples.\".format(len(test_dataset)))"
   ]
  },
  {
   "cell_type": "code",
   "execution_count": 5,
   "metadata": {},
   "outputs": [],
   "source": [
    "model = MyrtleNet().float().to(device)"
   ]
  },
  {
   "cell_type": "code",
   "execution_count": 6,
   "metadata": {},
   "outputs": [],
   "source": [
    "loss_func = torch.nn.CrossEntropyLoss()\n",
    "optimizer = torch.optim.AdamW(model.parameters(), lr=lr)"
   ]
  },
  {
   "cell_type": "code",
   "execution_count": 9,
   "metadata": {},
   "outputs": [
    {
     "name": "stdout",
     "output_type": "stream",
     "text": [
      "Processing batch 01/98.\n",
      "Processing batch 10/98.\n",
      "Processing batch 19/98.\n",
      "Processing batch 28/98.\n",
      "Processing batch 37/98.\n",
      "Processing batch 46/98.\n",
      "Processing batch 55/98.\n",
      "Processing batch 64/98.\n",
      "Processing batch 73/98.\n",
      "Processing batch 82/98.\n",
      "Processing batch 91/98.\n",
      "Epoch 00 val. accuracy: 0.7602\n",
      "Processing batch 01/98.\n",
      "Processing batch 10/98.\n",
      "Processing batch 19/98.\n",
      "Processing batch 28/98.\n",
      "Processing batch 37/98.\n",
      "Processing batch 46/98.\n",
      "Processing batch 55/98.\n",
      "Processing batch 64/98.\n",
      "Processing batch 73/98.\n",
      "Processing batch 82/98.\n",
      "Processing batch 91/98.\n",
      "Epoch 01 val. accuracy: 0.7953\n",
      "Processing batch 01/98.\n",
      "Processing batch 10/98.\n",
      "Processing batch 19/98.\n",
      "Processing batch 28/98.\n",
      "Processing batch 37/98.\n",
      "Processing batch 46/98.\n",
      "Processing batch 55/98.\n"
     ]
    },
    {
     "ename": "KeyboardInterrupt",
     "evalue": "",
     "output_type": "error",
     "traceback": [
      "\u001b[0;31m---------------------------------------------------------------------------\u001b[0m",
      "\u001b[0;31mKeyboardInterrupt\u001b[0m                         Traceback (most recent call last)",
      "Cell \u001b[0;32mIn[9], line 6\u001b[0m\n\u001b[1;32m      4\u001b[0m     \u001b[39mprint\u001b[39m(\u001b[39mf\u001b[39m\u001b[39m\"\u001b[39m\u001b[39mProcessing batch \u001b[39m\u001b[39m{\u001b[39;00mi\u001b[39m+\u001b[39m\u001b[39m1\u001b[39m\u001b[39m:\u001b[39;00m\u001b[39m02d\u001b[39m\u001b[39m}\u001b[39;00m\u001b[39m/\u001b[39m\u001b[39m{\u001b[39;00m\u001b[39mlen\u001b[39m(train_dataloader)\u001b[39m}\u001b[39;00m\u001b[39m.\u001b[39m\u001b[39m\"\u001b[39m)\n\u001b[1;32m      5\u001b[0m model\u001b[39m.\u001b[39mzero_grad()\n\u001b[0;32m----> 6\u001b[0m logits \u001b[39m=\u001b[39m model(x_batch\u001b[39m.\u001b[39;49mto(device))\n\u001b[1;32m      7\u001b[0m loss \u001b[39m=\u001b[39m loss_func(logits, y_batch\u001b[39m.\u001b[39mto(device))\n\u001b[1;32m      8\u001b[0m loss\u001b[39m.\u001b[39mbackward()\n",
      "\u001b[0;31mKeyboardInterrupt\u001b[0m: "
     ]
    }
   ],
   "source": [
    "for epoch in range(epochs):\n",
    "    for i, (x_batch, y_batch) in enumerate(train_dataloader):\n",
    "        if i % (len(train_dataloader) // 10) == 0:\n",
    "            print(f\"Processing batch {i+1:02d}/{len(train_dataloader)}.\")\n",
    "        model.zero_grad()\n",
    "        logits = model(x_batch.to(device))\n",
    "        loss = loss_func(logits, y_batch.to(device))\n",
    "        loss.backward()\n",
    "        optimizer.step()\n",
    "\n",
    "    total = 0\n",
    "    with torch.no_grad():\n",
    "        for (x_batch, y_batch) in test_dataloader:\n",
    "            logits = model(x_batch.to(device))\n",
    "            y_pred = torch.argmax(logits, dim=1).cpu()\n",
    "            total += torch.sum(y_pred == y_batch)\n",
    "    print(f\"Epoch {epoch:02d} val. accuracy: {total / len(test_dataset):0.4f}\")\n",
    "            "
   ]
  },
  {
   "cell_type": "code",
   "execution_count": 7,
   "metadata": {},
   "outputs": [
    {
     "data": {
      "text/plain": [
       "torch.Size([5, 10])"
      ]
     },
     "execution_count": 7,
     "metadata": {},
     "output_type": "execute_result"
    }
   ],
   "source": [
    "y.shape"
   ]
  },
  {
   "cell_type": "code",
   "execution_count": null,
   "metadata": {},
   "outputs": [],
   "source": []
  }
 ],
 "metadata": {
  "kernelspec": {
   "display_name": "resnets",
   "language": "python",
   "name": "python3"
  },
  "language_info": {
   "codemirror_mode": {
    "name": "ipython",
    "version": 3
   },
   "file_extension": ".py",
   "mimetype": "text/x-python",
   "name": "python",
   "nbconvert_exporter": "python",
   "pygments_lexer": "ipython3",
   "version": "3.10.9"
  },
  "orig_nbformat": 4,
  "vscode": {
   "interpreter": {
    "hash": "79c70c801e3f670de78f2bce2f341499f7441897db361a95a8aa5ccf5ca1ca57"
   }
  }
 },
 "nbformat": 4,
 "nbformat_minor": 2
}
